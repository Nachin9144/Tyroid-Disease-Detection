{
 "cells": [
  {
   "cell_type": "code",
   "execution_count": 1,
   "id": "7039a0c0",
   "metadata": {},
   "outputs": [],
   "source": [
    "import pandas as pd\n",
    "import numpy as np"
   ]
  },
  {
   "cell_type": "code",
   "execution_count": 2,
   "id": "af57c87a",
   "metadata": {
    "scrolled": true
   },
   "outputs": [
    {
     "data": {
      "text/html": [
       "<div>\n",
       "<style scoped>\n",
       "    .dataframe tbody tr th:only-of-type {\n",
       "        vertical-align: middle;\n",
       "    }\n",
       "\n",
       "    .dataframe tbody tr th {\n",
       "        vertical-align: top;\n",
       "    }\n",
       "\n",
       "    .dataframe thead th {\n",
       "        text-align: right;\n",
       "    }\n",
       "</style>\n",
       "<table border=\"1\" class=\"dataframe\">\n",
       "  <thead>\n",
       "    <tr style=\"text-align: right;\">\n",
       "      <th></th>\n",
       "      <th>29</th>\n",
       "      <th>F</th>\n",
       "      <th>f</th>\n",
       "      <th>f.1</th>\n",
       "      <th>f.2</th>\n",
       "      <th>f.3</th>\n",
       "      <th>f.4</th>\n",
       "      <th>f.5</th>\n",
       "      <th>f.6</th>\n",
       "      <th>t</th>\n",
       "      <th>...</th>\n",
       "      <th>f.14</th>\n",
       "      <th>?.1</th>\n",
       "      <th>f.15</th>\n",
       "      <th>?.2</th>\n",
       "      <th>f.16</th>\n",
       "      <th>?.3</th>\n",
       "      <th>f.17</th>\n",
       "      <th>?.4</th>\n",
       "      <th>other</th>\n",
       "      <th>-[840801013]</th>\n",
       "    </tr>\n",
       "  </thead>\n",
       "  <tbody>\n",
       "    <tr>\n",
       "      <th>0</th>\n",
       "      <td>29</td>\n",
       "      <td>F</td>\n",
       "      <td>f</td>\n",
       "      <td>f</td>\n",
       "      <td>f</td>\n",
       "      <td>f</td>\n",
       "      <td>f</td>\n",
       "      <td>f</td>\n",
       "      <td>f</td>\n",
       "      <td>f</td>\n",
       "      <td>...</td>\n",
       "      <td>t</td>\n",
       "      <td>128</td>\n",
       "      <td>f</td>\n",
       "      <td>?</td>\n",
       "      <td>f</td>\n",
       "      <td>?</td>\n",
       "      <td>f</td>\n",
       "      <td>?</td>\n",
       "      <td>other</td>\n",
       "      <td>-[840801014]</td>\n",
       "    </tr>\n",
       "    <tr>\n",
       "      <th>1</th>\n",
       "      <td>41</td>\n",
       "      <td>F</td>\n",
       "      <td>f</td>\n",
       "      <td>f</td>\n",
       "      <td>f</td>\n",
       "      <td>f</td>\n",
       "      <td>f</td>\n",
       "      <td>f</td>\n",
       "      <td>f</td>\n",
       "      <td>f</td>\n",
       "      <td>...</td>\n",
       "      <td>f</td>\n",
       "      <td>?</td>\n",
       "      <td>f</td>\n",
       "      <td>?</td>\n",
       "      <td>f</td>\n",
       "      <td>?</td>\n",
       "      <td>t</td>\n",
       "      <td>11</td>\n",
       "      <td>other</td>\n",
       "      <td>-[840801042]</td>\n",
       "    </tr>\n",
       "    <tr>\n",
       "      <th>2</th>\n",
       "      <td>36</td>\n",
       "      <td>F</td>\n",
       "      <td>f</td>\n",
       "      <td>f</td>\n",
       "      <td>f</td>\n",
       "      <td>f</td>\n",
       "      <td>f</td>\n",
       "      <td>f</td>\n",
       "      <td>f</td>\n",
       "      <td>f</td>\n",
       "      <td>...</td>\n",
       "      <td>f</td>\n",
       "      <td>?</td>\n",
       "      <td>f</td>\n",
       "      <td>?</td>\n",
       "      <td>f</td>\n",
       "      <td>?</td>\n",
       "      <td>t</td>\n",
       "      <td>26</td>\n",
       "      <td>other</td>\n",
       "      <td>-[840803046]</td>\n",
       "    </tr>\n",
       "    <tr>\n",
       "      <th>3</th>\n",
       "      <td>32</td>\n",
       "      <td>F</td>\n",
       "      <td>f</td>\n",
       "      <td>f</td>\n",
       "      <td>f</td>\n",
       "      <td>f</td>\n",
       "      <td>f</td>\n",
       "      <td>f</td>\n",
       "      <td>f</td>\n",
       "      <td>f</td>\n",
       "      <td>...</td>\n",
       "      <td>f</td>\n",
       "      <td>?</td>\n",
       "      <td>f</td>\n",
       "      <td>?</td>\n",
       "      <td>f</td>\n",
       "      <td>?</td>\n",
       "      <td>t</td>\n",
       "      <td>36</td>\n",
       "      <td>other</td>\n",
       "      <td>S[840803047]</td>\n",
       "    </tr>\n",
       "    <tr>\n",
       "      <th>4</th>\n",
       "      <td>60</td>\n",
       "      <td>F</td>\n",
       "      <td>f</td>\n",
       "      <td>f</td>\n",
       "      <td>f</td>\n",
       "      <td>f</td>\n",
       "      <td>f</td>\n",
       "      <td>f</td>\n",
       "      <td>f</td>\n",
       "      <td>f</td>\n",
       "      <td>...</td>\n",
       "      <td>f</td>\n",
       "      <td>?</td>\n",
       "      <td>f</td>\n",
       "      <td>?</td>\n",
       "      <td>f</td>\n",
       "      <td>?</td>\n",
       "      <td>t</td>\n",
       "      <td>26</td>\n",
       "      <td>other</td>\n",
       "      <td>-[840803048]</td>\n",
       "    </tr>\n",
       "    <tr>\n",
       "      <th>5</th>\n",
       "      <td>77</td>\n",
       "      <td>F</td>\n",
       "      <td>f</td>\n",
       "      <td>f</td>\n",
       "      <td>f</td>\n",
       "      <td>f</td>\n",
       "      <td>f</td>\n",
       "      <td>f</td>\n",
       "      <td>f</td>\n",
       "      <td>f</td>\n",
       "      <td>...</td>\n",
       "      <td>f</td>\n",
       "      <td>?</td>\n",
       "      <td>f</td>\n",
       "      <td>?</td>\n",
       "      <td>f</td>\n",
       "      <td>?</td>\n",
       "      <td>t</td>\n",
       "      <td>21</td>\n",
       "      <td>other</td>\n",
       "      <td>-[840803068]</td>\n",
       "    </tr>\n",
       "    <tr>\n",
       "      <th>6</th>\n",
       "      <td>28</td>\n",
       "      <td>F</td>\n",
       "      <td>f</td>\n",
       "      <td>f</td>\n",
       "      <td>f</td>\n",
       "      <td>f</td>\n",
       "      <td>f</td>\n",
       "      <td>f</td>\n",
       "      <td>f</td>\n",
       "      <td>f</td>\n",
       "      <td>...</td>\n",
       "      <td>t</td>\n",
       "      <td>116</td>\n",
       "      <td>f</td>\n",
       "      <td>?</td>\n",
       "      <td>f</td>\n",
       "      <td>?</td>\n",
       "      <td>f</td>\n",
       "      <td>?</td>\n",
       "      <td>SVI</td>\n",
       "      <td>-[840807019]</td>\n",
       "    </tr>\n",
       "    <tr>\n",
       "      <th>7</th>\n",
       "      <td>28</td>\n",
       "      <td>F</td>\n",
       "      <td>f</td>\n",
       "      <td>f</td>\n",
       "      <td>f</td>\n",
       "      <td>f</td>\n",
       "      <td>f</td>\n",
       "      <td>f</td>\n",
       "      <td>f</td>\n",
       "      <td>f</td>\n",
       "      <td>...</td>\n",
       "      <td>t</td>\n",
       "      <td>76</td>\n",
       "      <td>f</td>\n",
       "      <td>?</td>\n",
       "      <td>f</td>\n",
       "      <td>?</td>\n",
       "      <td>f</td>\n",
       "      <td>?</td>\n",
       "      <td>other</td>\n",
       "      <td>-[840808060]</td>\n",
       "    </tr>\n",
       "    <tr>\n",
       "      <th>8</th>\n",
       "      <td>28</td>\n",
       "      <td>F</td>\n",
       "      <td>f</td>\n",
       "      <td>f</td>\n",
       "      <td>f</td>\n",
       "      <td>f</td>\n",
       "      <td>f</td>\n",
       "      <td>f</td>\n",
       "      <td>f</td>\n",
       "      <td>f</td>\n",
       "      <td>...</td>\n",
       "      <td>t</td>\n",
       "      <td>83</td>\n",
       "      <td>f</td>\n",
       "      <td>?</td>\n",
       "      <td>f</td>\n",
       "      <td>?</td>\n",
       "      <td>f</td>\n",
       "      <td>?</td>\n",
       "      <td>other</td>\n",
       "      <td>-[840808073]</td>\n",
       "    </tr>\n",
       "    <tr>\n",
       "      <th>9</th>\n",
       "      <td>54</td>\n",
       "      <td>F</td>\n",
       "      <td>f</td>\n",
       "      <td>f</td>\n",
       "      <td>f</td>\n",
       "      <td>f</td>\n",
       "      <td>f</td>\n",
       "      <td>f</td>\n",
       "      <td>f</td>\n",
       "      <td>f</td>\n",
       "      <td>...</td>\n",
       "      <td>t</td>\n",
       "      <td>133</td>\n",
       "      <td>f</td>\n",
       "      <td>?</td>\n",
       "      <td>f</td>\n",
       "      <td>?</td>\n",
       "      <td>f</td>\n",
       "      <td>?</td>\n",
       "      <td>other</td>\n",
       "      <td>-[840810016]</td>\n",
       "    </tr>\n",
       "    <tr>\n",
       "      <th>10</th>\n",
       "      <td>42</td>\n",
       "      <td>F</td>\n",
       "      <td>f</td>\n",
       "      <td>f</td>\n",
       "      <td>f</td>\n",
       "      <td>f</td>\n",
       "      <td>f</td>\n",
       "      <td>f</td>\n",
       "      <td>f</td>\n",
       "      <td>f</td>\n",
       "      <td>...</td>\n",
       "      <td>t</td>\n",
       "      <td>105</td>\n",
       "      <td>f</td>\n",
       "      <td>?</td>\n",
       "      <td>f</td>\n",
       "      <td>?</td>\n",
       "      <td>f</td>\n",
       "      <td>?</td>\n",
       "      <td>other</td>\n",
       "      <td>-[840813022]</td>\n",
       "    </tr>\n",
       "    <tr>\n",
       "      <th>11</th>\n",
       "      <td>51</td>\n",
       "      <td>M</td>\n",
       "      <td>t</td>\n",
       "      <td>f</td>\n",
       "      <td>f</td>\n",
       "      <td>f</td>\n",
       "      <td>f</td>\n",
       "      <td>f</td>\n",
       "      <td>f</td>\n",
       "      <td>f</td>\n",
       "      <td>...</td>\n",
       "      <td>f</td>\n",
       "      <td>?</td>\n",
       "      <td>f</td>\n",
       "      <td>?</td>\n",
       "      <td>f</td>\n",
       "      <td>?</td>\n",
       "      <td>f</td>\n",
       "      <td>?</td>\n",
       "      <td>other</td>\n",
       "      <td>-[840813060]</td>\n",
       "    </tr>\n",
       "    <tr>\n",
       "      <th>12</th>\n",
       "      <td>51</td>\n",
       "      <td>F</td>\n",
       "      <td>f</td>\n",
       "      <td>f</td>\n",
       "      <td>f</td>\n",
       "      <td>f</td>\n",
       "      <td>f</td>\n",
       "      <td>f</td>\n",
       "      <td>f</td>\n",
       "      <td>f</td>\n",
       "      <td>...</td>\n",
       "      <td>t</td>\n",
       "      <td>116</td>\n",
       "      <td>f</td>\n",
       "      <td>?</td>\n",
       "      <td>f</td>\n",
       "      <td>?</td>\n",
       "      <td>f</td>\n",
       "      <td>?</td>\n",
       "      <td>other</td>\n",
       "      <td>-[840813068]</td>\n",
       "    </tr>\n",
       "    <tr>\n",
       "      <th>13</th>\n",
       "      <td>37</td>\n",
       "      <td>F</td>\n",
       "      <td>f</td>\n",
       "      <td>f</td>\n",
       "      <td>f</td>\n",
       "      <td>f</td>\n",
       "      <td>f</td>\n",
       "      <td>f</td>\n",
       "      <td>f</td>\n",
       "      <td>f</td>\n",
       "      <td>...</td>\n",
       "      <td>f</td>\n",
       "      <td>?</td>\n",
       "      <td>f</td>\n",
       "      <td>?</td>\n",
       "      <td>f</td>\n",
       "      <td>?</td>\n",
       "      <td>f</td>\n",
       "      <td>?</td>\n",
       "      <td>other</td>\n",
       "      <td>-[840814014]</td>\n",
       "    </tr>\n",
       "    <tr>\n",
       "      <th>14</th>\n",
       "      <td>16</td>\n",
       "      <td>M</td>\n",
       "      <td>f</td>\n",
       "      <td>f</td>\n",
       "      <td>f</td>\n",
       "      <td>f</td>\n",
       "      <td>f</td>\n",
       "      <td>f</td>\n",
       "      <td>f</td>\n",
       "      <td>f</td>\n",
       "      <td>...</td>\n",
       "      <td>f</td>\n",
       "      <td>?</td>\n",
       "      <td>f</td>\n",
       "      <td>?</td>\n",
       "      <td>f</td>\n",
       "      <td>?</td>\n",
       "      <td>f</td>\n",
       "      <td>?</td>\n",
       "      <td>other</td>\n",
       "      <td>-[840814057]</td>\n",
       "    </tr>\n",
       "    <tr>\n",
       "      <th>15</th>\n",
       "      <td>54</td>\n",
       "      <td>F</td>\n",
       "      <td>f</td>\n",
       "      <td>f</td>\n",
       "      <td>f</td>\n",
       "      <td>f</td>\n",
       "      <td>f</td>\n",
       "      <td>f</td>\n",
       "      <td>f</td>\n",
       "      <td>f</td>\n",
       "      <td>...</td>\n",
       "      <td>t</td>\n",
       "      <td>122</td>\n",
       "      <td>f</td>\n",
       "      <td>?</td>\n",
       "      <td>f</td>\n",
       "      <td>?</td>\n",
       "      <td>f</td>\n",
       "      <td>?</td>\n",
       "      <td>SVHC</td>\n",
       "      <td>-[840815016]</td>\n",
       "    </tr>\n",
       "    <tr>\n",
       "      <th>16</th>\n",
       "      <td>43</td>\n",
       "      <td>M</td>\n",
       "      <td>f</td>\n",
       "      <td>f</td>\n",
       "      <td>f</td>\n",
       "      <td>f</td>\n",
       "      <td>f</td>\n",
       "      <td>f</td>\n",
       "      <td>f</td>\n",
       "      <td>f</td>\n",
       "      <td>...</td>\n",
       "      <td>t</td>\n",
       "      <td>116</td>\n",
       "      <td>f</td>\n",
       "      <td>?</td>\n",
       "      <td>f</td>\n",
       "      <td>?</td>\n",
       "      <td>f</td>\n",
       "      <td>?</td>\n",
       "      <td>other</td>\n",
       "      <td>-[840815020]</td>\n",
       "    </tr>\n",
       "    <tr>\n",
       "      <th>17</th>\n",
       "      <td>63</td>\n",
       "      <td>F</td>\n",
       "      <td>t</td>\n",
       "      <td>f</td>\n",
       "      <td>f</td>\n",
       "      <td>t</td>\n",
       "      <td>f</td>\n",
       "      <td>f</td>\n",
       "      <td>f</td>\n",
       "      <td>f</td>\n",
       "      <td>...</td>\n",
       "      <td>t</td>\n",
       "      <td>48</td>\n",
       "      <td>t</td>\n",
       "      <td>1.02</td>\n",
       "      <td>t</td>\n",
       "      <td>47</td>\n",
       "      <td>f</td>\n",
       "      <td>?</td>\n",
       "      <td>other</td>\n",
       "      <td>F[840815067]</td>\n",
       "    </tr>\n",
       "    <tr>\n",
       "      <th>18</th>\n",
       "      <td>36</td>\n",
       "      <td>F</td>\n",
       "      <td>f</td>\n",
       "      <td>f</td>\n",
       "      <td>f</td>\n",
       "      <td>f</td>\n",
       "      <td>f</td>\n",
       "      <td>f</td>\n",
       "      <td>f</td>\n",
       "      <td>t</td>\n",
       "      <td>...</td>\n",
       "      <td>t</td>\n",
       "      <td>90</td>\n",
       "      <td>t</td>\n",
       "      <td>1.06</td>\n",
       "      <td>t</td>\n",
       "      <td>85</td>\n",
       "      <td>f</td>\n",
       "      <td>?</td>\n",
       "      <td>other</td>\n",
       "      <td>-[840815068]</td>\n",
       "    </tr>\n",
       "    <tr>\n",
       "      <th>19</th>\n",
       "      <td>40</td>\n",
       "      <td>F</td>\n",
       "      <td>f</td>\n",
       "      <td>t</td>\n",
       "      <td>f</td>\n",
       "      <td>f</td>\n",
       "      <td>f</td>\n",
       "      <td>f</td>\n",
       "      <td>f</td>\n",
       "      <td>f</td>\n",
       "      <td>...</td>\n",
       "      <td>t</td>\n",
       "      <td>79</td>\n",
       "      <td>t</td>\n",
       "      <td>0.94</td>\n",
       "      <td>t</td>\n",
       "      <td>84</td>\n",
       "      <td>f</td>\n",
       "      <td>?</td>\n",
       "      <td>other</td>\n",
       "      <td>-[840815069]</td>\n",
       "    </tr>\n",
       "    <tr>\n",
       "      <th>20</th>\n",
       "      <td>40</td>\n",
       "      <td>F</td>\n",
       "      <td>f</td>\n",
       "      <td>f</td>\n",
       "      <td>f</td>\n",
       "      <td>f</td>\n",
       "      <td>f</td>\n",
       "      <td>f</td>\n",
       "      <td>f</td>\n",
       "      <td>f</td>\n",
       "      <td>...</td>\n",
       "      <td>t</td>\n",
       "      <td>104</td>\n",
       "      <td>t</td>\n",
       "      <td>1.08</td>\n",
       "      <td>t</td>\n",
       "      <td>96</td>\n",
       "      <td>f</td>\n",
       "      <td>?</td>\n",
       "      <td>other</td>\n",
       "      <td>-[840816001]</td>\n",
       "    </tr>\n",
       "    <tr>\n",
       "      <th>21</th>\n",
       "      <td>40</td>\n",
       "      <td>F</td>\n",
       "      <td>f</td>\n",
       "      <td>f</td>\n",
       "      <td>f</td>\n",
       "      <td>f</td>\n",
       "      <td>f</td>\n",
       "      <td>f</td>\n",
       "      <td>f</td>\n",
       "      <td>f</td>\n",
       "      <td>...</td>\n",
       "      <td>t</td>\n",
       "      <td>88</td>\n",
       "      <td>t</td>\n",
       "      <td>0.84</td>\n",
       "      <td>t</td>\n",
       "      <td>105</td>\n",
       "      <td>f</td>\n",
       "      <td>?</td>\n",
       "      <td>other</td>\n",
       "      <td>-[840816002]</td>\n",
       "    </tr>\n",
       "    <tr>\n",
       "      <th>22</th>\n",
       "      <td>77</td>\n",
       "      <td>F</td>\n",
       "      <td>f</td>\n",
       "      <td>f</td>\n",
       "      <td>f</td>\n",
       "      <td>f</td>\n",
       "      <td>f</td>\n",
       "      <td>f</td>\n",
       "      <td>f</td>\n",
       "      <td>f</td>\n",
       "      <td>...</td>\n",
       "      <td>t</td>\n",
       "      <td>107</td>\n",
       "      <td>t</td>\n",
       "      <td>1.13</td>\n",
       "      <td>t</td>\n",
       "      <td>95</td>\n",
       "      <td>f</td>\n",
       "      <td>?</td>\n",
       "      <td>other</td>\n",
       "      <td>-[840816003]</td>\n",
       "    </tr>\n",
       "    <tr>\n",
       "      <th>23</th>\n",
       "      <td>77</td>\n",
       "      <td>?</td>\n",
       "      <td>f</td>\n",
       "      <td>f</td>\n",
       "      <td>f</td>\n",
       "      <td>f</td>\n",
       "      <td>f</td>\n",
       "      <td>f</td>\n",
       "      <td>f</td>\n",
       "      <td>f</td>\n",
       "      <td>...</td>\n",
       "      <td>t</td>\n",
       "      <td>126</td>\n",
       "      <td>f</td>\n",
       "      <td>?</td>\n",
       "      <td>f</td>\n",
       "      <td>?</td>\n",
       "      <td>f</td>\n",
       "      <td>?</td>\n",
       "      <td>SVHC</td>\n",
       "      <td>-[840816004]</td>\n",
       "    </tr>\n",
       "    <tr>\n",
       "      <th>24</th>\n",
       "      <td>77</td>\n",
       "      <td>F</td>\n",
       "      <td>f</td>\n",
       "      <td>f</td>\n",
       "      <td>f</td>\n",
       "      <td>f</td>\n",
       "      <td>f</td>\n",
       "      <td>f</td>\n",
       "      <td>f</td>\n",
       "      <td>f</td>\n",
       "      <td>...</td>\n",
       "      <td>t</td>\n",
       "      <td>113</td>\n",
       "      <td>t</td>\n",
       "      <td>1.07</td>\n",
       "      <td>t</td>\n",
       "      <td>106</td>\n",
       "      <td>f</td>\n",
       "      <td>?</td>\n",
       "      <td>other</td>\n",
       "      <td>-[840816005]</td>\n",
       "    </tr>\n",
       "    <tr>\n",
       "      <th>25</th>\n",
       "      <td>77</td>\n",
       "      <td>F</td>\n",
       "      <td>f</td>\n",
       "      <td>f</td>\n",
       "      <td>f</td>\n",
       "      <td>f</td>\n",
       "      <td>f</td>\n",
       "      <td>f</td>\n",
       "      <td>f</td>\n",
       "      <td>f</td>\n",
       "      <td>...</td>\n",
       "      <td>t</td>\n",
       "      <td>150</td>\n",
       "      <td>f</td>\n",
       "      <td>?</td>\n",
       "      <td>f</td>\n",
       "      <td>?</td>\n",
       "      <td>f</td>\n",
       "      <td>?</td>\n",
       "      <td>SVHC</td>\n",
       "      <td>-[840816006]</td>\n",
       "    </tr>\n",
       "    <tr>\n",
       "      <th>26</th>\n",
       "      <td>51</td>\n",
       "      <td>F</td>\n",
       "      <td>f</td>\n",
       "      <td>f</td>\n",
       "      <td>f</td>\n",
       "      <td>f</td>\n",
       "      <td>f</td>\n",
       "      <td>f</td>\n",
       "      <td>f</td>\n",
       "      <td>f</td>\n",
       "      <td>...</td>\n",
       "      <td>t</td>\n",
       "      <td>93</td>\n",
       "      <td>t</td>\n",
       "      <td>0.87</td>\n",
       "      <td>t</td>\n",
       "      <td>106</td>\n",
       "      <td>f</td>\n",
       "      <td>?</td>\n",
       "      <td>SVI</td>\n",
       "      <td>-[840816007]</td>\n",
       "    </tr>\n",
       "    <tr>\n",
       "      <th>27</th>\n",
       "      <td>75</td>\n",
       "      <td>F</td>\n",
       "      <td>f</td>\n",
       "      <td>f</td>\n",
       "      <td>f</td>\n",
       "      <td>f</td>\n",
       "      <td>f</td>\n",
       "      <td>f</td>\n",
       "      <td>f</td>\n",
       "      <td>f</td>\n",
       "      <td>...</td>\n",
       "      <td>t</td>\n",
       "      <td>157</td>\n",
       "      <td>t</td>\n",
       "      <td>0.89</td>\n",
       "      <td>t</td>\n",
       "      <td>176</td>\n",
       "      <td>f</td>\n",
       "      <td>?</td>\n",
       "      <td>SVI</td>\n",
       "      <td>AK[840816008]</td>\n",
       "    </tr>\n",
       "    <tr>\n",
       "      <th>28</th>\n",
       "      <td>56</td>\n",
       "      <td>M</td>\n",
       "      <td>f</td>\n",
       "      <td>f</td>\n",
       "      <td>f</td>\n",
       "      <td>f</td>\n",
       "      <td>f</td>\n",
       "      <td>f</td>\n",
       "      <td>f</td>\n",
       "      <td>f</td>\n",
       "      <td>...</td>\n",
       "      <td>t</td>\n",
       "      <td>80</td>\n",
       "      <td>t</td>\n",
       "      <td>0.62</td>\n",
       "      <td>t</td>\n",
       "      <td>129</td>\n",
       "      <td>f</td>\n",
       "      <td>?</td>\n",
       "      <td>SVI</td>\n",
       "      <td>-[840816009]</td>\n",
       "    </tr>\n",
       "    <tr>\n",
       "      <th>29</th>\n",
       "      <td>42</td>\n",
       "      <td>M</td>\n",
       "      <td>f</td>\n",
       "      <td>f</td>\n",
       "      <td>f</td>\n",
       "      <td>f</td>\n",
       "      <td>f</td>\n",
       "      <td>f</td>\n",
       "      <td>f</td>\n",
       "      <td>f</td>\n",
       "      <td>...</td>\n",
       "      <td>t</td>\n",
       "      <td>91</td>\n",
       "      <td>t</td>\n",
       "      <td>0.91</td>\n",
       "      <td>t</td>\n",
       "      <td>100</td>\n",
       "      <td>f</td>\n",
       "      <td>?</td>\n",
       "      <td>SVI</td>\n",
       "      <td>-[840816010]</td>\n",
       "    </tr>\n",
       "    <tr>\n",
       "      <th>30</th>\n",
       "      <td>85</td>\n",
       "      <td>M</td>\n",
       "      <td>f</td>\n",
       "      <td>f</td>\n",
       "      <td>f</td>\n",
       "      <td>f</td>\n",
       "      <td>f</td>\n",
       "      <td>f</td>\n",
       "      <td>f</td>\n",
       "      <td>f</td>\n",
       "      <td>...</td>\n",
       "      <td>t</td>\n",
       "      <td>47</td>\n",
       "      <td>t</td>\n",
       "      <td>0.68</td>\n",
       "      <td>t</td>\n",
       "      <td>69</td>\n",
       "      <td>f</td>\n",
       "      <td>?</td>\n",
       "      <td>SVI</td>\n",
       "      <td>-[840816011]</td>\n",
       "    </tr>\n",
       "    <tr>\n",
       "      <th>31</th>\n",
       "      <td>41</td>\n",
       "      <td>M</td>\n",
       "      <td>f</td>\n",
       "      <td>f</td>\n",
       "      <td>f</td>\n",
       "      <td>f</td>\n",
       "      <td>f</td>\n",
       "      <td>f</td>\n",
       "      <td>f</td>\n",
       "      <td>f</td>\n",
       "      <td>...</td>\n",
       "      <td>t</td>\n",
       "      <td>39</td>\n",
       "      <td>t</td>\n",
       "      <td>1</td>\n",
       "      <td>t</td>\n",
       "      <td>39</td>\n",
       "      <td>f</td>\n",
       "      <td>?</td>\n",
       "      <td>other</td>\n",
       "      <td>R[840816013]</td>\n",
       "    </tr>\n",
       "    <tr>\n",
       "      <th>32</th>\n",
       "      <td>71</td>\n",
       "      <td>F</td>\n",
       "      <td>t</td>\n",
       "      <td>f</td>\n",
       "      <td>f</td>\n",
       "      <td>f</td>\n",
       "      <td>f</td>\n",
       "      <td>f</td>\n",
       "      <td>f</td>\n",
       "      <td>f</td>\n",
       "      <td>...</td>\n",
       "      <td>t</td>\n",
       "      <td>126</td>\n",
       "      <td>t</td>\n",
       "      <td>1.38</td>\n",
       "      <td>t</td>\n",
       "      <td>91</td>\n",
       "      <td>f</td>\n",
       "      <td>?</td>\n",
       "      <td>other</td>\n",
       "      <td>I[840816014]</td>\n",
       "    </tr>\n",
       "    <tr>\n",
       "      <th>33</th>\n",
       "      <td>67</td>\n",
       "      <td>M</td>\n",
       "      <td>f</td>\n",
       "      <td>f</td>\n",
       "      <td>f</td>\n",
       "      <td>f</td>\n",
       "      <td>f</td>\n",
       "      <td>f</td>\n",
       "      <td>f</td>\n",
       "      <td>f</td>\n",
       "      <td>...</td>\n",
       "      <td>t</td>\n",
       "      <td>71</td>\n",
       "      <td>t</td>\n",
       "      <td>0.79</td>\n",
       "      <td>t</td>\n",
       "      <td>90</td>\n",
       "      <td>f</td>\n",
       "      <td>?</td>\n",
       "      <td>other</td>\n",
       "      <td>-[840816022]</td>\n",
       "    </tr>\n",
       "    <tr>\n",
       "      <th>34</th>\n",
       "      <td>67</td>\n",
       "      <td>M</td>\n",
       "      <td>f</td>\n",
       "      <td>f</td>\n",
       "      <td>f</td>\n",
       "      <td>f</td>\n",
       "      <td>f</td>\n",
       "      <td>f</td>\n",
       "      <td>f</td>\n",
       "      <td>f</td>\n",
       "      <td>...</td>\n",
       "      <td>t</td>\n",
       "      <td>88</td>\n",
       "      <td>t</td>\n",
       "      <td>0.95</td>\n",
       "      <td>t</td>\n",
       "      <td>93</td>\n",
       "      <td>f</td>\n",
       "      <td>?</td>\n",
       "      <td>SVI</td>\n",
       "      <td>-[840816025]</td>\n",
       "    </tr>\n",
       "    <tr>\n",
       "      <th>35</th>\n",
       "      <td>51</td>\n",
       "      <td>F</td>\n",
       "      <td>f</td>\n",
       "      <td>f</td>\n",
       "      <td>f</td>\n",
       "      <td>f</td>\n",
       "      <td>f</td>\n",
       "      <td>f</td>\n",
       "      <td>f</td>\n",
       "      <td>f</td>\n",
       "      <td>...</td>\n",
       "      <td>t</td>\n",
       "      <td>104</td>\n",
       "      <td>t</td>\n",
       "      <td>1.57</td>\n",
       "      <td>t</td>\n",
       "      <td>66</td>\n",
       "      <td>f</td>\n",
       "      <td>?</td>\n",
       "      <td>SVI</td>\n",
       "      <td>-[840816028]</td>\n",
       "    </tr>\n",
       "    <tr>\n",
       "      <th>36</th>\n",
       "      <td>51</td>\n",
       "      <td>F</td>\n",
       "      <td>f</td>\n",
       "      <td>f</td>\n",
       "      <td>f</td>\n",
       "      <td>f</td>\n",
       "      <td>f</td>\n",
       "      <td>f</td>\n",
       "      <td>f</td>\n",
       "      <td>t</td>\n",
       "      <td>...</td>\n",
       "      <td>t</td>\n",
       "      <td>111</td>\n",
       "      <td>t</td>\n",
       "      <td>0.92</td>\n",
       "      <td>t</td>\n",
       "      <td>121</td>\n",
       "      <td>f</td>\n",
       "      <td>?</td>\n",
       "      <td>other</td>\n",
       "      <td>-[840816029]</td>\n",
       "    </tr>\n",
       "    <tr>\n",
       "      <th>37</th>\n",
       "      <td>28</td>\n",
       "      <td>F</td>\n",
       "      <td>f</td>\n",
       "      <td>f</td>\n",
       "      <td>f</td>\n",
       "      <td>f</td>\n",
       "      <td>f</td>\n",
       "      <td>f</td>\n",
       "      <td>f</td>\n",
       "      <td>f</td>\n",
       "      <td>...</td>\n",
       "      <td>t</td>\n",
       "      <td>86</td>\n",
       "      <td>t</td>\n",
       "      <td>0.92</td>\n",
       "      <td>t</td>\n",
       "      <td>93</td>\n",
       "      <td>f</td>\n",
       "      <td>?</td>\n",
       "      <td>other</td>\n",
       "      <td>-[840816046]</td>\n",
       "    </tr>\n",
       "    <tr>\n",
       "      <th>38</th>\n",
       "      <td>55</td>\n",
       "      <td>F</td>\n",
       "      <td>t</td>\n",
       "      <td>f</td>\n",
       "      <td>f</td>\n",
       "      <td>f</td>\n",
       "      <td>f</td>\n",
       "      <td>f</td>\n",
       "      <td>f</td>\n",
       "      <td>t</td>\n",
       "      <td>...</td>\n",
       "      <td>t</td>\n",
       "      <td>136</td>\n",
       "      <td>t</td>\n",
       "      <td>1.48</td>\n",
       "      <td>t</td>\n",
       "      <td>92</td>\n",
       "      <td>f</td>\n",
       "      <td>?</td>\n",
       "      <td>other</td>\n",
       "      <td>M[840816047]</td>\n",
       "    </tr>\n",
       "    <tr>\n",
       "      <th>39</th>\n",
       "      <td>32</td>\n",
       "      <td>F</td>\n",
       "      <td>t</td>\n",
       "      <td>f</td>\n",
       "      <td>f</td>\n",
       "      <td>f</td>\n",
       "      <td>f</td>\n",
       "      <td>f</td>\n",
       "      <td>f</td>\n",
       "      <td>f</td>\n",
       "      <td>...</td>\n",
       "      <td>t</td>\n",
       "      <td>163</td>\n",
       "      <td>t</td>\n",
       "      <td>0.94</td>\n",
       "      <td>t</td>\n",
       "      <td>173</td>\n",
       "      <td>f</td>\n",
       "      <td>?</td>\n",
       "      <td>other</td>\n",
       "      <td>N[840816049]</td>\n",
       "    </tr>\n",
       "  </tbody>\n",
       "</table>\n",
       "<p>40 rows × 30 columns</p>\n",
       "</div>"
      ],
      "text/plain": [
       "    29  F  f f.1 f.2 f.3 f.4 f.5 f.6  t  ... f.14  ?.1 f.15   ?.2 f.16  ?.3  \\\n",
       "0   29  F  f   f   f   f   f   f   f  f  ...    t  128    f     ?    f    ?   \n",
       "1   41  F  f   f   f   f   f   f   f  f  ...    f    ?    f     ?    f    ?   \n",
       "2   36  F  f   f   f   f   f   f   f  f  ...    f    ?    f     ?    f    ?   \n",
       "3   32  F  f   f   f   f   f   f   f  f  ...    f    ?    f     ?    f    ?   \n",
       "4   60  F  f   f   f   f   f   f   f  f  ...    f    ?    f     ?    f    ?   \n",
       "5   77  F  f   f   f   f   f   f   f  f  ...    f    ?    f     ?    f    ?   \n",
       "6   28  F  f   f   f   f   f   f   f  f  ...    t  116    f     ?    f    ?   \n",
       "7   28  F  f   f   f   f   f   f   f  f  ...    t   76    f     ?    f    ?   \n",
       "8   28  F  f   f   f   f   f   f   f  f  ...    t   83    f     ?    f    ?   \n",
       "9   54  F  f   f   f   f   f   f   f  f  ...    t  133    f     ?    f    ?   \n",
       "10  42  F  f   f   f   f   f   f   f  f  ...    t  105    f     ?    f    ?   \n",
       "11  51  M  t   f   f   f   f   f   f  f  ...    f    ?    f     ?    f    ?   \n",
       "12  51  F  f   f   f   f   f   f   f  f  ...    t  116    f     ?    f    ?   \n",
       "13  37  F  f   f   f   f   f   f   f  f  ...    f    ?    f     ?    f    ?   \n",
       "14  16  M  f   f   f   f   f   f   f  f  ...    f    ?    f     ?    f    ?   \n",
       "15  54  F  f   f   f   f   f   f   f  f  ...    t  122    f     ?    f    ?   \n",
       "16  43  M  f   f   f   f   f   f   f  f  ...    t  116    f     ?    f    ?   \n",
       "17  63  F  t   f   f   t   f   f   f  f  ...    t   48    t  1.02    t   47   \n",
       "18  36  F  f   f   f   f   f   f   f  t  ...    t   90    t  1.06    t   85   \n",
       "19  40  F  f   t   f   f   f   f   f  f  ...    t   79    t  0.94    t   84   \n",
       "20  40  F  f   f   f   f   f   f   f  f  ...    t  104    t  1.08    t   96   \n",
       "21  40  F  f   f   f   f   f   f   f  f  ...    t   88    t  0.84    t  105   \n",
       "22  77  F  f   f   f   f   f   f   f  f  ...    t  107    t  1.13    t   95   \n",
       "23  77  ?  f   f   f   f   f   f   f  f  ...    t  126    f     ?    f    ?   \n",
       "24  77  F  f   f   f   f   f   f   f  f  ...    t  113    t  1.07    t  106   \n",
       "25  77  F  f   f   f   f   f   f   f  f  ...    t  150    f     ?    f    ?   \n",
       "26  51  F  f   f   f   f   f   f   f  f  ...    t   93    t  0.87    t  106   \n",
       "27  75  F  f   f   f   f   f   f   f  f  ...    t  157    t  0.89    t  176   \n",
       "28  56  M  f   f   f   f   f   f   f  f  ...    t   80    t  0.62    t  129   \n",
       "29  42  M  f   f   f   f   f   f   f  f  ...    t   91    t  0.91    t  100   \n",
       "30  85  M  f   f   f   f   f   f   f  f  ...    t   47    t  0.68    t   69   \n",
       "31  41  M  f   f   f   f   f   f   f  f  ...    t   39    t     1    t   39   \n",
       "32  71  F  t   f   f   f   f   f   f  f  ...    t  126    t  1.38    t   91   \n",
       "33  67  M  f   f   f   f   f   f   f  f  ...    t   71    t  0.79    t   90   \n",
       "34  67  M  f   f   f   f   f   f   f  f  ...    t   88    t  0.95    t   93   \n",
       "35  51  F  f   f   f   f   f   f   f  f  ...    t  104    t  1.57    t   66   \n",
       "36  51  F  f   f   f   f   f   f   f  t  ...    t  111    t  0.92    t  121   \n",
       "37  28  F  f   f   f   f   f   f   f  f  ...    t   86    t  0.92    t   93   \n",
       "38  55  F  t   f   f   f   f   f   f  t  ...    t  136    t  1.48    t   92   \n",
       "39  32  F  t   f   f   f   f   f   f  f  ...    t  163    t  0.94    t  173   \n",
       "\n",
       "   f.17 ?.4  other   -[840801013]  \n",
       "0     f   ?  other   -[840801014]  \n",
       "1     t  11  other   -[840801042]  \n",
       "2     t  26  other   -[840803046]  \n",
       "3     t  36  other   S[840803047]  \n",
       "4     t  26  other   -[840803048]  \n",
       "5     t  21  other   -[840803068]  \n",
       "6     f   ?    SVI   -[840807019]  \n",
       "7     f   ?  other   -[840808060]  \n",
       "8     f   ?  other   -[840808073]  \n",
       "9     f   ?  other   -[840810016]  \n",
       "10    f   ?  other   -[840813022]  \n",
       "11    f   ?  other   -[840813060]  \n",
       "12    f   ?  other   -[840813068]  \n",
       "13    f   ?  other   -[840814014]  \n",
       "14    f   ?  other   -[840814057]  \n",
       "15    f   ?   SVHC   -[840815016]  \n",
       "16    f   ?  other   -[840815020]  \n",
       "17    f   ?  other   F[840815067]  \n",
       "18    f   ?  other   -[840815068]  \n",
       "19    f   ?  other   -[840815069]  \n",
       "20    f   ?  other   -[840816001]  \n",
       "21    f   ?  other   -[840816002]  \n",
       "22    f   ?  other   -[840816003]  \n",
       "23    f   ?   SVHC   -[840816004]  \n",
       "24    f   ?  other   -[840816005]  \n",
       "25    f   ?   SVHC   -[840816006]  \n",
       "26    f   ?    SVI   -[840816007]  \n",
       "27    f   ?    SVI  AK[840816008]  \n",
       "28    f   ?    SVI   -[840816009]  \n",
       "29    f   ?    SVI   -[840816010]  \n",
       "30    f   ?    SVI   -[840816011]  \n",
       "31    f   ?  other   R[840816013]  \n",
       "32    f   ?  other   I[840816014]  \n",
       "33    f   ?  other   -[840816022]  \n",
       "34    f   ?    SVI   -[840816025]  \n",
       "35    f   ?    SVI   -[840816028]  \n",
       "36    f   ?  other   -[840816029]  \n",
       "37    f   ?  other   -[840816046]  \n",
       "38    f   ?  other   M[840816047]  \n",
       "39    f   ?  other   N[840816049]  \n",
       "\n",
       "[40 rows x 30 columns]"
      ]
     },
     "execution_count": 2,
     "metadata": {},
     "output_type": "execute_result"
    }
   ],
   "source": [
    "tyroid=pd.read_csv('F:\\\\thyroid0387.csv')\n",
    "tyroid.head(40)"
   ]
  },
  {
   "cell_type": "code",
   "execution_count": 3,
   "id": "d0674b48",
   "metadata": {},
   "outputs": [
    {
     "data": {
      "text/plain": [
       "(9171, 30)"
      ]
     },
     "execution_count": 3,
     "metadata": {},
     "output_type": "execute_result"
    }
   ],
   "source": [
    "tyroid.shape"
   ]
  },
  {
   "cell_type": "code",
   "execution_count": 4,
   "id": "aae6f46a",
   "metadata": {},
   "outputs": [],
   "source": [
    "tyroid.columns=[\"age\", \"sex\", \"on thyroxine\",\n",
    "                \"query on thyroxine\",'on antithyroid medication','sick',\n",
    "               'pregnant','thyroid surgery','I131 treatment','query hypothyroid','query hyperthyroid','lithium',\n",
    "               'goitre','tumor','hypopituitary','psych','TSH measured','TSH','T3 measured','T3','TT4 measured',\n",
    "               'TT4','T4U measured','T4U','FTI measured','FTI','TBG measured','TBG','referral source','target']\n"
   ]
  },
  {
   "cell_type": "code",
   "execution_count": 5,
   "id": "e392bfe4",
   "metadata": {},
   "outputs": [
    {
     "data": {
      "text/html": [
       "<div>\n",
       "<style scoped>\n",
       "    .dataframe tbody tr th:only-of-type {\n",
       "        vertical-align: middle;\n",
       "    }\n",
       "\n",
       "    .dataframe tbody tr th {\n",
       "        vertical-align: top;\n",
       "    }\n",
       "\n",
       "    .dataframe thead th {\n",
       "        text-align: right;\n",
       "    }\n",
       "</style>\n",
       "<table border=\"1\" class=\"dataframe\">\n",
       "  <thead>\n",
       "    <tr style=\"text-align: right;\">\n",
       "      <th></th>\n",
       "      <th>age</th>\n",
       "      <th>sex</th>\n",
       "      <th>on thyroxine</th>\n",
       "      <th>query on thyroxine</th>\n",
       "      <th>on antithyroid medication</th>\n",
       "      <th>sick</th>\n",
       "      <th>pregnant</th>\n",
       "      <th>thyroid surgery</th>\n",
       "      <th>I131 treatment</th>\n",
       "      <th>query hypothyroid</th>\n",
       "      <th>...</th>\n",
       "      <th>TT4 measured</th>\n",
       "      <th>TT4</th>\n",
       "      <th>T4U measured</th>\n",
       "      <th>T4U</th>\n",
       "      <th>FTI measured</th>\n",
       "      <th>FTI</th>\n",
       "      <th>TBG measured</th>\n",
       "      <th>TBG</th>\n",
       "      <th>referral source</th>\n",
       "      <th>target</th>\n",
       "    </tr>\n",
       "  </thead>\n",
       "  <tbody>\n",
       "    <tr>\n",
       "      <th>0</th>\n",
       "      <td>29</td>\n",
       "      <td>F</td>\n",
       "      <td>f</td>\n",
       "      <td>f</td>\n",
       "      <td>f</td>\n",
       "      <td>f</td>\n",
       "      <td>f</td>\n",
       "      <td>f</td>\n",
       "      <td>f</td>\n",
       "      <td>f</td>\n",
       "      <td>...</td>\n",
       "      <td>t</td>\n",
       "      <td>128</td>\n",
       "      <td>f</td>\n",
       "      <td>?</td>\n",
       "      <td>f</td>\n",
       "      <td>?</td>\n",
       "      <td>f</td>\n",
       "      <td>?</td>\n",
       "      <td>other</td>\n",
       "      <td>-[840801014]</td>\n",
       "    </tr>\n",
       "    <tr>\n",
       "      <th>1</th>\n",
       "      <td>41</td>\n",
       "      <td>F</td>\n",
       "      <td>f</td>\n",
       "      <td>f</td>\n",
       "      <td>f</td>\n",
       "      <td>f</td>\n",
       "      <td>f</td>\n",
       "      <td>f</td>\n",
       "      <td>f</td>\n",
       "      <td>f</td>\n",
       "      <td>...</td>\n",
       "      <td>f</td>\n",
       "      <td>?</td>\n",
       "      <td>f</td>\n",
       "      <td>?</td>\n",
       "      <td>f</td>\n",
       "      <td>?</td>\n",
       "      <td>t</td>\n",
       "      <td>11</td>\n",
       "      <td>other</td>\n",
       "      <td>-[840801042]</td>\n",
       "    </tr>\n",
       "    <tr>\n",
       "      <th>2</th>\n",
       "      <td>36</td>\n",
       "      <td>F</td>\n",
       "      <td>f</td>\n",
       "      <td>f</td>\n",
       "      <td>f</td>\n",
       "      <td>f</td>\n",
       "      <td>f</td>\n",
       "      <td>f</td>\n",
       "      <td>f</td>\n",
       "      <td>f</td>\n",
       "      <td>...</td>\n",
       "      <td>f</td>\n",
       "      <td>?</td>\n",
       "      <td>f</td>\n",
       "      <td>?</td>\n",
       "      <td>f</td>\n",
       "      <td>?</td>\n",
       "      <td>t</td>\n",
       "      <td>26</td>\n",
       "      <td>other</td>\n",
       "      <td>-[840803046]</td>\n",
       "    </tr>\n",
       "    <tr>\n",
       "      <th>3</th>\n",
       "      <td>32</td>\n",
       "      <td>F</td>\n",
       "      <td>f</td>\n",
       "      <td>f</td>\n",
       "      <td>f</td>\n",
       "      <td>f</td>\n",
       "      <td>f</td>\n",
       "      <td>f</td>\n",
       "      <td>f</td>\n",
       "      <td>f</td>\n",
       "      <td>...</td>\n",
       "      <td>f</td>\n",
       "      <td>?</td>\n",
       "      <td>f</td>\n",
       "      <td>?</td>\n",
       "      <td>f</td>\n",
       "      <td>?</td>\n",
       "      <td>t</td>\n",
       "      <td>36</td>\n",
       "      <td>other</td>\n",
       "      <td>S[840803047]</td>\n",
       "    </tr>\n",
       "    <tr>\n",
       "      <th>4</th>\n",
       "      <td>60</td>\n",
       "      <td>F</td>\n",
       "      <td>f</td>\n",
       "      <td>f</td>\n",
       "      <td>f</td>\n",
       "      <td>f</td>\n",
       "      <td>f</td>\n",
       "      <td>f</td>\n",
       "      <td>f</td>\n",
       "      <td>f</td>\n",
       "      <td>...</td>\n",
       "      <td>f</td>\n",
       "      <td>?</td>\n",
       "      <td>f</td>\n",
       "      <td>?</td>\n",
       "      <td>f</td>\n",
       "      <td>?</td>\n",
       "      <td>t</td>\n",
       "      <td>26</td>\n",
       "      <td>other</td>\n",
       "      <td>-[840803048]</td>\n",
       "    </tr>\n",
       "  </tbody>\n",
       "</table>\n",
       "<p>5 rows × 30 columns</p>\n",
       "</div>"
      ],
      "text/plain": [
       "   age sex on thyroxine query on thyroxine on antithyroid medication sick  \\\n",
       "0   29   F            f                  f                         f    f   \n",
       "1   41   F            f                  f                         f    f   \n",
       "2   36   F            f                  f                         f    f   \n",
       "3   32   F            f                  f                         f    f   \n",
       "4   60   F            f                  f                         f    f   \n",
       "\n",
       "  pregnant thyroid surgery I131 treatment query hypothyroid  ... TT4 measured  \\\n",
       "0        f               f              f                 f  ...            t   \n",
       "1        f               f              f                 f  ...            f   \n",
       "2        f               f              f                 f  ...            f   \n",
       "3        f               f              f                 f  ...            f   \n",
       "4        f               f              f                 f  ...            f   \n",
       "\n",
       "   TT4 T4U measured T4U FTI measured FTI TBG measured TBG referral source  \\\n",
       "0  128            f   ?            f   ?            f   ?           other   \n",
       "1    ?            f   ?            f   ?            t  11           other   \n",
       "2    ?            f   ?            f   ?            t  26           other   \n",
       "3    ?            f   ?            f   ?            t  36           other   \n",
       "4    ?            f   ?            f   ?            t  26           other   \n",
       "\n",
       "         target  \n",
       "0  -[840801014]  \n",
       "1  -[840801042]  \n",
       "2  -[840803046]  \n",
       "3  S[840803047]  \n",
       "4  -[840803048]  \n",
       "\n",
       "[5 rows x 30 columns]"
      ]
     },
     "execution_count": 5,
     "metadata": {},
     "output_type": "execute_result"
    }
   ],
   "source": [
    "tyroid.shape\n",
    "tyroid.head()"
   ]
  },
  {
   "cell_type": "code",
   "execution_count": 6,
   "id": "3d1668f1",
   "metadata": {},
   "outputs": [],
   "source": [
    "tyroid.rename(columns={'on thyroxine':'on_thyroxine','query on thyroxine':'query_on_thyroxine','on antithyroid medication':'on_antithyroid_medication','thyroid surgery':'thyroid_surgery','I131 treatment':'I131_treatment','query hypothyroid':'query_hypothyroid','query hyperthyroid':'query_hyperthyroid','TSH measured':'TSH_measured','T3 measured':'T3_measured','TT4 measured':'TT4_measured','T4U measured':'T4U_measured','FTI measured':'FTI_measured','referral source':'referral_source','TBG measured':'TBG_measured'},inplace=True)"
   ]
  },
  {
   "cell_type": "code",
   "execution_count": 7,
   "id": "4a1893e5",
   "metadata": {},
   "outputs": [
    {
     "data": {
      "text/plain": [
       "Index(['age', 'sex', 'on_thyroxine', 'query_on_thyroxine',\n",
       "       'on_antithyroid_medication', 'sick', 'pregnant', 'thyroid_surgery',\n",
       "       'I131_treatment', 'query_hypothyroid', 'query_hyperthyroid', 'lithium',\n",
       "       'goitre', 'tumor', 'hypopituitary', 'psych', 'TSH_measured', 'TSH',\n",
       "       'T3_measured', 'T3', 'TT4_measured', 'TT4', 'T4U_measured', 'T4U',\n",
       "       'FTI_measured', 'FTI', 'TBG_measured', 'TBG', 'referral_source',\n",
       "       'target'],\n",
       "      dtype='object')"
      ]
     },
     "execution_count": 7,
     "metadata": {},
     "output_type": "execute_result"
    }
   ],
   "source": [
    "#tyroid.drop(tyroid['referral source'],axis=1)\n",
    "tyroid.columns"
   ]
  },
  {
   "cell_type": "code",
   "execution_count": 8,
   "id": "45d2508f",
   "metadata": {},
   "outputs": [
    {
     "data": {
      "text/plain": [
       "array(['Z', 'S', 'F', 'AK', 'R', 'I', 'M', 'N', 'G', 'K', 'A', 'KJ', 'L',\n",
       "       'MK', 'Q', 'J', 'C', 'O', 'LJ', 'H', 'D', 'GK', 'MI', 'P', 'FK',\n",
       "       'B', 'GI', 'GKJ', 'OI', 'E'], dtype=object)"
      ]
     },
     "execution_count": 8,
     "metadata": {},
     "output_type": "execute_result"
    }
   ],
   "source": [
    "tyroid['target'] = tyroid['target'].str.extract('([A-Z]+)').fillna('Z')\n",
    "#here 'Z' is the null value.\n",
    "tyroid.head(15)\n",
    "tyroid['target'].unique()"
   ]
  },
  {
   "cell_type": "code",
   "execution_count": 9,
   "id": "a31ace58",
   "metadata": {
    "scrolled": true
   },
   "outputs": [
    {
     "name": "stdout",
     "output_type": "stream",
     "text": [
      "<class 'pandas.core.frame.DataFrame'>\n",
      "RangeIndex: 9171 entries, 0 to 9170\n",
      "Data columns (total 30 columns):\n",
      " #   Column                     Non-Null Count  Dtype \n",
      "---  ------                     --------------  ----- \n",
      " 0   age                        9171 non-null   int64 \n",
      " 1   sex                        9171 non-null   object\n",
      " 2   on_thyroxine               9171 non-null   object\n",
      " 3   query_on_thyroxine         9171 non-null   object\n",
      " 4   on_antithyroid_medication  9171 non-null   object\n",
      " 5   sick                       9171 non-null   object\n",
      " 6   pregnant                   9171 non-null   object\n",
      " 7   thyroid_surgery            9171 non-null   object\n",
      " 8   I131_treatment             9171 non-null   object\n",
      " 9   query_hypothyroid          9171 non-null   object\n",
      " 10  query_hyperthyroid         9171 non-null   object\n",
      " 11  lithium                    9171 non-null   object\n",
      " 12  goitre                     9171 non-null   object\n",
      " 13  tumor                      9171 non-null   object\n",
      " 14  hypopituitary              9171 non-null   object\n",
      " 15  psych                      9171 non-null   object\n",
      " 16  TSH_measured               9171 non-null   object\n",
      " 17  TSH                        9171 non-null   object\n",
      " 18  T3_measured                9171 non-null   object\n",
      " 19  T3                         9171 non-null   object\n",
      " 20  TT4_measured               9171 non-null   object\n",
      " 21  TT4                        9171 non-null   object\n",
      " 22  T4U_measured               9171 non-null   object\n",
      " 23  T4U                        9171 non-null   object\n",
      " 24  FTI_measured               9171 non-null   object\n",
      " 25  FTI                        9171 non-null   object\n",
      " 26  TBG_measured               9171 non-null   object\n",
      " 27  TBG                        9171 non-null   object\n",
      " 28  referral_source            9171 non-null   object\n",
      " 29  target                     9171 non-null   object\n",
      "dtypes: int64(1), object(29)\n",
      "memory usage: 2.1+ MB\n"
     ]
    }
   ],
   "source": [
    "tyroid.info()"
   ]
  },
  {
   "cell_type": "code",
   "execution_count": 10,
   "id": "cd668401",
   "metadata": {},
   "outputs": [
    {
     "data": {
      "text/plain": [
       "Index(['age', 'sex', 'on_thyroxine', 'query_on_thyroxine',\n",
       "       'on_antithyroid_medication', 'sick', 'pregnant', 'thyroid_surgery',\n",
       "       'I131_treatment', 'query_hypothyroid', 'query_hyperthyroid', 'lithium',\n",
       "       'goitre', 'tumor', 'hypopituitary', 'psych', 'TSH_measured', 'TSH',\n",
       "       'T3_measured', 'T3', 'TT4_measured', 'TT4', 'T4U_measured', 'T4U',\n",
       "       'FTI_measured', 'FTI', 'TBG_measured', 'TBG', 'referral_source',\n",
       "       'target'],\n",
       "      dtype='object')"
      ]
     },
     "execution_count": 10,
     "metadata": {},
     "output_type": "execute_result"
    }
   ],
   "source": [
    "tyroid.columns"
   ]
  },
  {
   "cell_type": "code",
   "execution_count": 11,
   "id": "53de8ac9",
   "metadata": {},
   "outputs": [],
   "source": [
    "from sklearn.preprocessing import LabelEncoder\n",
    "def encodeer(tyroid):\n",
    "    l_e= LabelEncoder()\n",
    "    tyroid['TBG']=l_e.fit_transform(tyroid['TBG'])\n",
    "    tyroid['target']=l_e.fit_transform(tyroid['target'])\n",
    "    print(tyroid['TBG'])\n",
    "    print(tyroid['target'])"
   ]
  },
  {
   "cell_type": "code",
   "execution_count": 12,
   "id": "4666b8da",
   "metadata": {},
   "outputs": [
    {
     "name": "stdout",
     "output_type": "stream",
     "text": [
      "0       66\n",
      "1        6\n",
      "2       27\n",
      "3       38\n",
      "4       27\n",
      "        ..\n",
      "9166    66\n",
      "9167    66\n",
      "9168    66\n",
      "9169    66\n",
      "9170    66\n",
      "Name: TBG, Length: 9171, dtype: int32\n",
      "0       29\n",
      "1       29\n",
      "2       29\n",
      "3       28\n",
      "4       29\n",
      "        ..\n",
      "9166    29\n",
      "9167    29\n",
      "9168    13\n",
      "9169    29\n",
      "9170    29\n",
      "Name: target, Length: 9171, dtype: int32\n"
     ]
    },
    {
     "data": {
      "text/plain": [
       "66    8822\n",
       "25      23\n",
       "28      22\n",
       "20      20\n",
       "29      19\n",
       "      ... \n",
       "56       1\n",
       "19       1\n",
       "63       1\n",
       "57       1\n",
       "2        1\n",
       "Name: TBG, Length: 67, dtype: int64"
      ]
     },
     "execution_count": 12,
     "metadata": {},
     "output_type": "execute_result"
    }
   ],
   "source": [
    "encodeer(tyroid)\n",
    "tyroid['TBG'].value_counts()"
   ]
  },
  {
   "cell_type": "code",
   "execution_count": 13,
   "id": "7be86d26",
   "metadata": {},
   "outputs": [],
   "source": [
    "tyroid = tyroid.replace({'f':0,'t':1, 'y':1, 'n':0, 'M':0, 'F':1})"
   ]
  },
  {
   "cell_type": "code",
   "execution_count": 14,
   "id": "20e7eb52",
   "metadata": {},
   "outputs": [],
   "source": [
    "tyroid.replace(to_replace='?', inplace=True, value=np.NaN)"
   ]
  },
  {
   "cell_type": "code",
   "execution_count": 15,
   "id": "d4d68620",
   "metadata": {},
   "outputs": [],
   "source": [
    "#tyroid.replace({'?':0})"
   ]
  },
  {
   "cell_type": "code",
   "execution_count": 16,
   "id": "2442f8bf",
   "metadata": {},
   "outputs": [
    {
     "data": {
      "text/plain": [
       "age                             0\n",
       "sex                           307\n",
       "on_thyroxine                    0\n",
       "query_on_thyroxine              0\n",
       "on_antithyroid_medication       0\n",
       "sick                            0\n",
       "pregnant                        0\n",
       "thyroid_surgery                 0\n",
       "I131_treatment                  0\n",
       "query_hypothyroid               0\n",
       "query_hyperthyroid              0\n",
       "lithium                         0\n",
       "goitre                          0\n",
       "tumor                           0\n",
       "hypopituitary                   0\n",
       "psych                           0\n",
       "TSH_measured                    0\n",
       "TSH                           842\n",
       "T3_measured                     0\n",
       "T3                           2603\n",
       "TT4_measured                    0\n",
       "TT4                           441\n",
       "T4U_measured                    0\n",
       "T4U                           808\n",
       "FTI_measured                    0\n",
       "FTI                           801\n",
       "TBG_measured                    0\n",
       "TBG                             0\n",
       "referral_source                 0\n",
       "target                          0\n",
       "dtype: int64"
      ]
     },
     "execution_count": 16,
     "metadata": {},
     "output_type": "execute_result"
    }
   ],
   "source": [
    "tyroid.isnull().sum()"
   ]
  },
  {
   "cell_type": "code",
   "execution_count": 17,
   "id": "9c40d3e4",
   "metadata": {},
   "outputs": [],
   "source": [
    "#Dropping the T3_measured and TBG_measured column as it contains extremely high number of null values\n",
    "tyroid.drop(['T3','referral_source'], axis = 1, inplace=True)"
   ]
  },
  {
   "cell_type": "code",
   "execution_count": 18,
   "id": "645fe7d8",
   "metadata": {},
   "outputs": [],
   "source": [
    "#tyroid[tyroid.duplicated()]"
   ]
  },
  {
   "cell_type": "code",
   "execution_count": 19,
   "id": "8a92d7c2",
   "metadata": {},
   "outputs": [],
   "source": [
    "#tyroid.drop_duplicates().reset_index(drop='Ture')"
   ]
  },
  {
   "cell_type": "code",
   "execution_count": 20,
   "id": "edf641f8",
   "metadata": {},
   "outputs": [],
   "source": [
    "# Selecting columns with data type as 'object'\n",
    "columns = tyroid.columns[tyroid.dtypes.eq('object')]\n",
    "\n",
    "# Convert to numeric values\n",
    "tyroid[columns] = tyroid[columns].apply(pd.to_numeric, errors='coerce')"
   ]
  },
  {
   "cell_type": "code",
   "execution_count": 21,
   "id": "f3feba72",
   "metadata": {},
   "outputs": [],
   "source": [
    "tyroid.drop_duplicates(inplace=True)"
   ]
  },
  {
   "cell_type": "code",
   "execution_count": 22,
   "id": "f35496fb",
   "metadata": {},
   "outputs": [
    {
     "data": {
      "text/plain": [
       "(9154, 28)"
      ]
     },
     "execution_count": 22,
     "metadata": {},
     "output_type": "execute_result"
    }
   ],
   "source": [
    "tyroid.shape"
   ]
  },
  {
   "cell_type": "code",
   "execution_count": 23,
   "id": "6f299739",
   "metadata": {
    "scrolled": true
   },
   "outputs": [
    {
     "name": "stdout",
     "output_type": "stream",
     "text": [
      "<class 'pandas.core.frame.DataFrame'>\n",
      "Int64Index: 9154 entries, 0 to 9170\n",
      "Data columns (total 28 columns):\n",
      " #   Column                     Non-Null Count  Dtype  \n",
      "---  ------                     --------------  -----  \n",
      " 0   age                        9154 non-null   int64  \n",
      " 1   sex                        8849 non-null   float64\n",
      " 2   on_thyroxine               9154 non-null   int64  \n",
      " 3   query_on_thyroxine         9154 non-null   int64  \n",
      " 4   on_antithyroid_medication  9154 non-null   int64  \n",
      " 5   sick                       9154 non-null   int64  \n",
      " 6   pregnant                   9154 non-null   int64  \n",
      " 7   thyroid_surgery            9154 non-null   int64  \n",
      " 8   I131_treatment             9154 non-null   int64  \n",
      " 9   query_hypothyroid          9154 non-null   int64  \n",
      " 10  query_hyperthyroid         9154 non-null   int64  \n",
      " 11  lithium                    9154 non-null   int64  \n",
      " 12  goitre                     9154 non-null   int64  \n",
      " 13  tumor                      9154 non-null   int64  \n",
      " 14  hypopituitary              9154 non-null   int64  \n",
      " 15  psych                      9154 non-null   int64  \n",
      " 16  TSH_measured               9154 non-null   int64  \n",
      " 17  TSH                        8327 non-null   float64\n",
      " 18  T3_measured                9154 non-null   int64  \n",
      " 19  TT4_measured               9154 non-null   int64  \n",
      " 20  TT4                        8728 non-null   float64\n",
      " 21  T4U_measured               9154 non-null   int64  \n",
      " 22  T4U                        8361 non-null   float64\n",
      " 23  FTI_measured               9154 non-null   int64  \n",
      " 24  FTI                        8368 non-null   float64\n",
      " 25  TBG_measured               9154 non-null   int64  \n",
      " 26  TBG                        9154 non-null   int32  \n",
      " 27  target                     9154 non-null   int32  \n",
      "dtypes: float64(5), int32(2), int64(21)\n",
      "memory usage: 2.0 MB\n"
     ]
    }
   ],
   "source": [
    "tyroid.info()"
   ]
  },
  {
   "cell_type": "code",
   "execution_count": 24,
   "id": "72f499d0",
   "metadata": {},
   "outputs": [],
   "source": [
    "# Replacing null values by mean \n",
    "tyroid['age'].fillna(tyroid['age'].median(), inplace = True)\n",
    "tyroid['sex'].fillna(tyroid['sex'].median(), inplace = True)\n",
    "tyroid['T4U'].fillna(tyroid['T4U'].median(), inplace = True)\n",
    "\n",
    "# Replacing null values by median\n",
    "tyroid['TSH'].fillna(tyroid['TSH'].mean(), inplace = True)\n",
    "\n",
    "tyroid['TT4'].fillna(tyroid['TT4'].mean(), inplace = True)\n",
    "tyroid['TT4_measured'].fillna(tyroid['TT4_measured'].mean(), inplace = True)\n",
    "tyroid['T4U_measured'].fillna(tyroid['T4U_measured'].mean(), inplace = True)\n",
    "tyroid['FTI_measured'].fillna(tyroid['FTI_measured'].mean(), inplace = True)\n",
    "\n",
    "tyroid['FTI'].fillna(tyroid['FTI'].median(), inplace = True)\n"
   ]
  },
  {
   "cell_type": "code",
   "execution_count": 25,
   "id": "671dca09",
   "metadata": {},
   "outputs": [
    {
     "data": {
      "text/html": [
       "<div>\n",
       "<style scoped>\n",
       "    .dataframe tbody tr th:only-of-type {\n",
       "        vertical-align: middle;\n",
       "    }\n",
       "\n",
       "    .dataframe tbody tr th {\n",
       "        vertical-align: top;\n",
       "    }\n",
       "\n",
       "    .dataframe thead th {\n",
       "        text-align: right;\n",
       "    }\n",
       "</style>\n",
       "<table border=\"1\" class=\"dataframe\">\n",
       "  <thead>\n",
       "    <tr style=\"text-align: right;\">\n",
       "      <th></th>\n",
       "      <th>age</th>\n",
       "      <th>sex</th>\n",
       "      <th>on_thyroxine</th>\n",
       "      <th>query_on_thyroxine</th>\n",
       "      <th>on_antithyroid_medication</th>\n",
       "      <th>sick</th>\n",
       "      <th>pregnant</th>\n",
       "      <th>thyroid_surgery</th>\n",
       "      <th>I131_treatment</th>\n",
       "      <th>query_hypothyroid</th>\n",
       "      <th>...</th>\n",
       "      <th>T3_measured</th>\n",
       "      <th>TT4_measured</th>\n",
       "      <th>TT4</th>\n",
       "      <th>T4U_measured</th>\n",
       "      <th>T4U</th>\n",
       "      <th>FTI_measured</th>\n",
       "      <th>FTI</th>\n",
       "      <th>TBG_measured</th>\n",
       "      <th>TBG</th>\n",
       "      <th>target</th>\n",
       "    </tr>\n",
       "  </thead>\n",
       "  <tbody>\n",
       "    <tr>\n",
       "      <th>0</th>\n",
       "      <td>29</td>\n",
       "      <td>1.0</td>\n",
       "      <td>0</td>\n",
       "      <td>0</td>\n",
       "      <td>0</td>\n",
       "      <td>0</td>\n",
       "      <td>0</td>\n",
       "      <td>0</td>\n",
       "      <td>0</td>\n",
       "      <td>0</td>\n",
       "      <td>...</td>\n",
       "      <td>1</td>\n",
       "      <td>1</td>\n",
       "      <td>128.000000</td>\n",
       "      <td>0</td>\n",
       "      <td>0.96</td>\n",
       "      <td>0</td>\n",
       "      <td>109.0</td>\n",
       "      <td>0</td>\n",
       "      <td>66</td>\n",
       "      <td>29</td>\n",
       "    </tr>\n",
       "    <tr>\n",
       "      <th>1</th>\n",
       "      <td>41</td>\n",
       "      <td>1.0</td>\n",
       "      <td>0</td>\n",
       "      <td>0</td>\n",
       "      <td>0</td>\n",
       "      <td>0</td>\n",
       "      <td>0</td>\n",
       "      <td>0</td>\n",
       "      <td>0</td>\n",
       "      <td>0</td>\n",
       "      <td>...</td>\n",
       "      <td>0</td>\n",
       "      <td>0</td>\n",
       "      <td>108.704017</td>\n",
       "      <td>0</td>\n",
       "      <td>0.96</td>\n",
       "      <td>0</td>\n",
       "      <td>109.0</td>\n",
       "      <td>1</td>\n",
       "      <td>6</td>\n",
       "      <td>29</td>\n",
       "    </tr>\n",
       "    <tr>\n",
       "      <th>2</th>\n",
       "      <td>36</td>\n",
       "      <td>1.0</td>\n",
       "      <td>0</td>\n",
       "      <td>0</td>\n",
       "      <td>0</td>\n",
       "      <td>0</td>\n",
       "      <td>0</td>\n",
       "      <td>0</td>\n",
       "      <td>0</td>\n",
       "      <td>0</td>\n",
       "      <td>...</td>\n",
       "      <td>0</td>\n",
       "      <td>0</td>\n",
       "      <td>108.704017</td>\n",
       "      <td>0</td>\n",
       "      <td>0.96</td>\n",
       "      <td>0</td>\n",
       "      <td>109.0</td>\n",
       "      <td>1</td>\n",
       "      <td>27</td>\n",
       "      <td>29</td>\n",
       "    </tr>\n",
       "    <tr>\n",
       "      <th>3</th>\n",
       "      <td>32</td>\n",
       "      <td>1.0</td>\n",
       "      <td>0</td>\n",
       "      <td>0</td>\n",
       "      <td>0</td>\n",
       "      <td>0</td>\n",
       "      <td>0</td>\n",
       "      <td>0</td>\n",
       "      <td>0</td>\n",
       "      <td>0</td>\n",
       "      <td>...</td>\n",
       "      <td>0</td>\n",
       "      <td>0</td>\n",
       "      <td>108.704017</td>\n",
       "      <td>0</td>\n",
       "      <td>0.96</td>\n",
       "      <td>0</td>\n",
       "      <td>109.0</td>\n",
       "      <td>1</td>\n",
       "      <td>38</td>\n",
       "      <td>28</td>\n",
       "    </tr>\n",
       "    <tr>\n",
       "      <th>4</th>\n",
       "      <td>60</td>\n",
       "      <td>1.0</td>\n",
       "      <td>0</td>\n",
       "      <td>0</td>\n",
       "      <td>0</td>\n",
       "      <td>0</td>\n",
       "      <td>0</td>\n",
       "      <td>0</td>\n",
       "      <td>0</td>\n",
       "      <td>0</td>\n",
       "      <td>...</td>\n",
       "      <td>0</td>\n",
       "      <td>0</td>\n",
       "      <td>108.704017</td>\n",
       "      <td>0</td>\n",
       "      <td>0.96</td>\n",
       "      <td>0</td>\n",
       "      <td>109.0</td>\n",
       "      <td>1</td>\n",
       "      <td>27</td>\n",
       "      <td>29</td>\n",
       "    </tr>\n",
       "    <tr>\n",
       "      <th>5</th>\n",
       "      <td>77</td>\n",
       "      <td>1.0</td>\n",
       "      <td>0</td>\n",
       "      <td>0</td>\n",
       "      <td>0</td>\n",
       "      <td>0</td>\n",
       "      <td>0</td>\n",
       "      <td>0</td>\n",
       "      <td>0</td>\n",
       "      <td>0</td>\n",
       "      <td>...</td>\n",
       "      <td>0</td>\n",
       "      <td>0</td>\n",
       "      <td>108.704017</td>\n",
       "      <td>0</td>\n",
       "      <td>0.96</td>\n",
       "      <td>0</td>\n",
       "      <td>109.0</td>\n",
       "      <td>1</td>\n",
       "      <td>22</td>\n",
       "      <td>29</td>\n",
       "    </tr>\n",
       "    <tr>\n",
       "      <th>6</th>\n",
       "      <td>28</td>\n",
       "      <td>1.0</td>\n",
       "      <td>0</td>\n",
       "      <td>0</td>\n",
       "      <td>0</td>\n",
       "      <td>0</td>\n",
       "      <td>0</td>\n",
       "      <td>0</td>\n",
       "      <td>0</td>\n",
       "      <td>0</td>\n",
       "      <td>...</td>\n",
       "      <td>1</td>\n",
       "      <td>1</td>\n",
       "      <td>116.000000</td>\n",
       "      <td>0</td>\n",
       "      <td>0.96</td>\n",
       "      <td>0</td>\n",
       "      <td>109.0</td>\n",
       "      <td>0</td>\n",
       "      <td>66</td>\n",
       "      <td>29</td>\n",
       "    </tr>\n",
       "    <tr>\n",
       "      <th>7</th>\n",
       "      <td>28</td>\n",
       "      <td>1.0</td>\n",
       "      <td>0</td>\n",
       "      <td>0</td>\n",
       "      <td>0</td>\n",
       "      <td>0</td>\n",
       "      <td>0</td>\n",
       "      <td>0</td>\n",
       "      <td>0</td>\n",
       "      <td>0</td>\n",
       "      <td>...</td>\n",
       "      <td>1</td>\n",
       "      <td>1</td>\n",
       "      <td>76.000000</td>\n",
       "      <td>0</td>\n",
       "      <td>0.96</td>\n",
       "      <td>0</td>\n",
       "      <td>109.0</td>\n",
       "      <td>0</td>\n",
       "      <td>66</td>\n",
       "      <td>29</td>\n",
       "    </tr>\n",
       "    <tr>\n",
       "      <th>8</th>\n",
       "      <td>28</td>\n",
       "      <td>1.0</td>\n",
       "      <td>0</td>\n",
       "      <td>0</td>\n",
       "      <td>0</td>\n",
       "      <td>0</td>\n",
       "      <td>0</td>\n",
       "      <td>0</td>\n",
       "      <td>0</td>\n",
       "      <td>0</td>\n",
       "      <td>...</td>\n",
       "      <td>1</td>\n",
       "      <td>1</td>\n",
       "      <td>83.000000</td>\n",
       "      <td>0</td>\n",
       "      <td>0.96</td>\n",
       "      <td>0</td>\n",
       "      <td>109.0</td>\n",
       "      <td>0</td>\n",
       "      <td>66</td>\n",
       "      <td>29</td>\n",
       "    </tr>\n",
       "    <tr>\n",
       "      <th>9</th>\n",
       "      <td>54</td>\n",
       "      <td>1.0</td>\n",
       "      <td>0</td>\n",
       "      <td>0</td>\n",
       "      <td>0</td>\n",
       "      <td>0</td>\n",
       "      <td>0</td>\n",
       "      <td>0</td>\n",
       "      <td>0</td>\n",
       "      <td>0</td>\n",
       "      <td>...</td>\n",
       "      <td>1</td>\n",
       "      <td>1</td>\n",
       "      <td>133.000000</td>\n",
       "      <td>0</td>\n",
       "      <td>0.96</td>\n",
       "      <td>0</td>\n",
       "      <td>109.0</td>\n",
       "      <td>0</td>\n",
       "      <td>66</td>\n",
       "      <td>29</td>\n",
       "    </tr>\n",
       "    <tr>\n",
       "      <th>10</th>\n",
       "      <td>42</td>\n",
       "      <td>1.0</td>\n",
       "      <td>0</td>\n",
       "      <td>0</td>\n",
       "      <td>0</td>\n",
       "      <td>0</td>\n",
       "      <td>0</td>\n",
       "      <td>0</td>\n",
       "      <td>0</td>\n",
       "      <td>0</td>\n",
       "      <td>...</td>\n",
       "      <td>1</td>\n",
       "      <td>1</td>\n",
       "      <td>105.000000</td>\n",
       "      <td>0</td>\n",
       "      <td>0.96</td>\n",
       "      <td>0</td>\n",
       "      <td>109.0</td>\n",
       "      <td>0</td>\n",
       "      <td>66</td>\n",
       "      <td>29</td>\n",
       "    </tr>\n",
       "    <tr>\n",
       "      <th>11</th>\n",
       "      <td>51</td>\n",
       "      <td>0.0</td>\n",
       "      <td>1</td>\n",
       "      <td>0</td>\n",
       "      <td>0</td>\n",
       "      <td>0</td>\n",
       "      <td>0</td>\n",
       "      <td>0</td>\n",
       "      <td>0</td>\n",
       "      <td>0</td>\n",
       "      <td>...</td>\n",
       "      <td>0</td>\n",
       "      <td>0</td>\n",
       "      <td>108.704017</td>\n",
       "      <td>0</td>\n",
       "      <td>0.96</td>\n",
       "      <td>0</td>\n",
       "      <td>109.0</td>\n",
       "      <td>0</td>\n",
       "      <td>66</td>\n",
       "      <td>29</td>\n",
       "    </tr>\n",
       "    <tr>\n",
       "      <th>12</th>\n",
       "      <td>51</td>\n",
       "      <td>1.0</td>\n",
       "      <td>0</td>\n",
       "      <td>0</td>\n",
       "      <td>0</td>\n",
       "      <td>0</td>\n",
       "      <td>0</td>\n",
       "      <td>0</td>\n",
       "      <td>0</td>\n",
       "      <td>0</td>\n",
       "      <td>...</td>\n",
       "      <td>1</td>\n",
       "      <td>1</td>\n",
       "      <td>116.000000</td>\n",
       "      <td>0</td>\n",
       "      <td>0.96</td>\n",
       "      <td>0</td>\n",
       "      <td>109.0</td>\n",
       "      <td>0</td>\n",
       "      <td>66</td>\n",
       "      <td>29</td>\n",
       "    </tr>\n",
       "    <tr>\n",
       "      <th>13</th>\n",
       "      <td>37</td>\n",
       "      <td>1.0</td>\n",
       "      <td>0</td>\n",
       "      <td>0</td>\n",
       "      <td>0</td>\n",
       "      <td>0</td>\n",
       "      <td>0</td>\n",
       "      <td>0</td>\n",
       "      <td>0</td>\n",
       "      <td>0</td>\n",
       "      <td>...</td>\n",
       "      <td>1</td>\n",
       "      <td>0</td>\n",
       "      <td>108.704017</td>\n",
       "      <td>0</td>\n",
       "      <td>0.96</td>\n",
       "      <td>0</td>\n",
       "      <td>109.0</td>\n",
       "      <td>0</td>\n",
       "      <td>66</td>\n",
       "      <td>29</td>\n",
       "    </tr>\n",
       "    <tr>\n",
       "      <th>14</th>\n",
       "      <td>16</td>\n",
       "      <td>0.0</td>\n",
       "      <td>0</td>\n",
       "      <td>0</td>\n",
       "      <td>0</td>\n",
       "      <td>0</td>\n",
       "      <td>0</td>\n",
       "      <td>0</td>\n",
       "      <td>0</td>\n",
       "      <td>0</td>\n",
       "      <td>...</td>\n",
       "      <td>0</td>\n",
       "      <td>0</td>\n",
       "      <td>108.704017</td>\n",
       "      <td>0</td>\n",
       "      <td>0.96</td>\n",
       "      <td>0</td>\n",
       "      <td>109.0</td>\n",
       "      <td>0</td>\n",
       "      <td>66</td>\n",
       "      <td>29</td>\n",
       "    </tr>\n",
       "  </tbody>\n",
       "</table>\n",
       "<p>15 rows × 28 columns</p>\n",
       "</div>"
      ],
      "text/plain": [
       "    age  sex  on_thyroxine  query_on_thyroxine  on_antithyroid_medication  \\\n",
       "0    29  1.0             0                   0                          0   \n",
       "1    41  1.0             0                   0                          0   \n",
       "2    36  1.0             0                   0                          0   \n",
       "3    32  1.0             0                   0                          0   \n",
       "4    60  1.0             0                   0                          0   \n",
       "5    77  1.0             0                   0                          0   \n",
       "6    28  1.0             0                   0                          0   \n",
       "7    28  1.0             0                   0                          0   \n",
       "8    28  1.0             0                   0                          0   \n",
       "9    54  1.0             0                   0                          0   \n",
       "10   42  1.0             0                   0                          0   \n",
       "11   51  0.0             1                   0                          0   \n",
       "12   51  1.0             0                   0                          0   \n",
       "13   37  1.0             0                   0                          0   \n",
       "14   16  0.0             0                   0                          0   \n",
       "\n",
       "    sick  pregnant  thyroid_surgery  I131_treatment  query_hypothyroid  ...  \\\n",
       "0      0         0                0               0                  0  ...   \n",
       "1      0         0                0               0                  0  ...   \n",
       "2      0         0                0               0                  0  ...   \n",
       "3      0         0                0               0                  0  ...   \n",
       "4      0         0                0               0                  0  ...   \n",
       "5      0         0                0               0                  0  ...   \n",
       "6      0         0                0               0                  0  ...   \n",
       "7      0         0                0               0                  0  ...   \n",
       "8      0         0                0               0                  0  ...   \n",
       "9      0         0                0               0                  0  ...   \n",
       "10     0         0                0               0                  0  ...   \n",
       "11     0         0                0               0                  0  ...   \n",
       "12     0         0                0               0                  0  ...   \n",
       "13     0         0                0               0                  0  ...   \n",
       "14     0         0                0               0                  0  ...   \n",
       "\n",
       "    T3_measured  TT4_measured         TT4  T4U_measured   T4U  FTI_measured  \\\n",
       "0             1             1  128.000000             0  0.96             0   \n",
       "1             0             0  108.704017             0  0.96             0   \n",
       "2             0             0  108.704017             0  0.96             0   \n",
       "3             0             0  108.704017             0  0.96             0   \n",
       "4             0             0  108.704017             0  0.96             0   \n",
       "5             0             0  108.704017             0  0.96             0   \n",
       "6             1             1  116.000000             0  0.96             0   \n",
       "7             1             1   76.000000             0  0.96             0   \n",
       "8             1             1   83.000000             0  0.96             0   \n",
       "9             1             1  133.000000             0  0.96             0   \n",
       "10            1             1  105.000000             0  0.96             0   \n",
       "11            0             0  108.704017             0  0.96             0   \n",
       "12            1             1  116.000000             0  0.96             0   \n",
       "13            1             0  108.704017             0  0.96             0   \n",
       "14            0             0  108.704017             0  0.96             0   \n",
       "\n",
       "      FTI  TBG_measured  TBG  target  \n",
       "0   109.0             0   66      29  \n",
       "1   109.0             1    6      29  \n",
       "2   109.0             1   27      29  \n",
       "3   109.0             1   38      28  \n",
       "4   109.0             1   27      29  \n",
       "5   109.0             1   22      29  \n",
       "6   109.0             0   66      29  \n",
       "7   109.0             0   66      29  \n",
       "8   109.0             0   66      29  \n",
       "9   109.0             0   66      29  \n",
       "10  109.0             0   66      29  \n",
       "11  109.0             0   66      29  \n",
       "12  109.0             0   66      29  \n",
       "13  109.0             0   66      29  \n",
       "14  109.0             0   66      29  \n",
       "\n",
       "[15 rows x 28 columns]"
      ]
     },
     "execution_count": 25,
     "metadata": {},
     "output_type": "execute_result"
    }
   ],
   "source": [
    "#tyroid['query_on_thyroxine'].value_counts()\n",
    "tyroid.head(15)"
   ]
  },
  {
   "cell_type": "code",
   "execution_count": 26,
   "id": "892d3650",
   "metadata": {},
   "outputs": [
    {
     "data": {
      "text/plain": [
       "age                          0\n",
       "sex                          0\n",
       "on_thyroxine                 0\n",
       "query_on_thyroxine           0\n",
       "on_antithyroid_medication    0\n",
       "sick                         0\n",
       "pregnant                     0\n",
       "thyroid_surgery              0\n",
       "I131_treatment               0\n",
       "query_hypothyroid            0\n",
       "query_hyperthyroid           0\n",
       "lithium                      0\n",
       "goitre                       0\n",
       "tumor                        0\n",
       "hypopituitary                0\n",
       "psych                        0\n",
       "TSH_measured                 0\n",
       "TSH                          0\n",
       "T3_measured                  0\n",
       "TT4_measured                 0\n",
       "TT4                          0\n",
       "T4U_measured                 0\n",
       "T4U                          0\n",
       "FTI_measured                 0\n",
       "FTI                          0\n",
       "TBG_measured                 0\n",
       "TBG                          0\n",
       "target                       0\n",
       "dtype: int64"
      ]
     },
     "execution_count": 26,
     "metadata": {},
     "output_type": "execute_result"
    }
   ],
   "source": [
    "tyroid.isnull().sum()"
   ]
  },
  {
   "cell_type": "code",
   "execution_count": 27,
   "id": "37794963",
   "metadata": {},
   "outputs": [
    {
     "name": "stdout",
     "output_type": "stream",
     "text": [
      "age\n"
     ]
    },
    {
     "data": {
      "image/png": "[encoded data removed]",
      "text/plain": [
       "<Figure size 1440x1080 with 1 Axes>"
      ]
     },
     "metadata": {
      "needs_background": "light"
     },
     "output_type": "display_data"
    },
    {
     "name": "stdout",
     "output_type": "stream",
     "text": [
      "sex\n"
     ]
    },
    {
     "data": {
      "image/png": "[encoded data removed]",
      "text/plain": [
       "<Figure size 432x288 with 1 Axes>"
      ]
     },
     "metadata": {
      "needs_background": "light"
     },
     "output_type": "display_data"
    },
    {
     "name": "stdout",
     "output_type": "stream",
     "text": [
      "on_thyroxine\n"
     ]
    },
    {
     "data": {
      "image/png": "[encoded data removed]",
      "text/plain": [
       "<Figure size 432x288 with 1 Axes>"
      ]
     },
     "metadata": {
      "needs_background": "light"
     },
     "output_type": "display_data"
    },
    {
     "name": "stdout",
     "output_type": "stream",
     "text": [
      "query_on_thyroxine\n"
     ]
    },
    {
     "data": {
      "image/png": "[encoded data removed]",
      "text/plain": [
       "<Figure size 432x288 with 1 Axes>"
      ]
     },
     "metadata": {
      "needs_background": "light"
     },
     "output_type": "display_data"
    },
    {
     "name": "stdout",
     "output_type": "stream",
     "text": [
      "on_antithyroid_medication\n"
     ]
    },
    {
     "data": {
      "image/png": "[encoded data removed]",
      "text/plain": [
       "<Figure size 432x288 with 1 Axes>"
      ]
     },
     "metadata": {
      "needs_background": "light"
     },
     "output_type": "display_data"
    },
    {
     "name": "stdout",
     "output_type": "stream",
     "text": [
      "sick\n"
     ]
    },
    {
     "data": {
      "image/png": "[encoded data removed]",
      "text/plain": [
       "<Figure size 432x288 with 1 Axes>"
      ]
     },
     "metadata": {
      "needs_background": "light"
     },
     "output_type": "display_data"
    },
    {
     "name": "stdout",
     "output_type": "stream",
     "text": [
      "pregnant\n"
     ]
    },
    {
     "data": {
      "image/png": "[encoded data removed]",
      "text/plain": [
       "<Figure size 432x288 with 1 Axes>"
      ]
     },
     "metadata": {
      "needs_background": "light"
     },
     "output_type": "display_data"
    },
    {
     "name": "stdout",
     "output_type": "stream",
     "text": [
      "thyroid_surgery\n"
     ]
    },
    {
     "data": {
      "image/png": "[encoded data removed]",
      "text/plain": [
       "<Figure size 432x288 with 1 Axes>"
      ]
     },
     "metadata": {
      "needs_background": "light"
     },
     "output_type": "display_data"
    },
    {
     "name": "stdout",
     "output_type": "stream",
     "text": [
      "I131_treatment\n"
     ]
    },
    {
     "data": {
      "image/png": "[encoded data removed]",
      "text/plain": [
       "<Figure size 432x288 with 1 Axes>"
      ]
     },
     "metadata": {
      "needs_background": "light"
     },
     "output_type": "display_data"
    },
    {
     "name": "stdout",
     "output_type": "stream",
     "text": [
      "query_hypothyroid\n"
     ]
    },
    {
     "data": {
      "image/png": "[encoded data removed]",
      "text/plain": [
       "<Figure size 432x288 with 1 Axes>"
      ]
     },
     "metadata": {
      "needs_background": "light"
     },
     "output_type": "display_data"
    },
    {
     "name": "stdout",
     "output_type": "stream",
     "text": [
      "query_hyperthyroid\n"
     ]
    },
    {
     "data": {
      "image/png": "[encoded data removed]",
      "text/plain": [
       "<Figure size 432x288 with 1 Axes>"
      ]
     },
     "metadata": {
      "needs_background": "light"
     },
     "output_type": "display_data"
    },
    {
     "name": "stdout",
     "output_type": "stream",
     "text": [
      "lithium\n"
     ]
    },
    {
     "data": {
      "image/png": "[encoded data removed]",
      "text/plain": [
       "<Figure size 432x288 with 1 Axes>"
      ]
     },
     "metadata": {
      "needs_background": "light"
     },
     "output_type": "display_data"
    },
    {
     "name": "stdout",
     "output_type": "stream",
     "text": [
      "goitre\n"
     ]
    },
    {
     "data": {
      "image/png": "[encoded data removed]",
      "text/plain": [
       "<Figure size 432x288 with 1 Axes>"
      ]
     },
     "metadata": {
      "needs_background": "light"
     },
     "output_type": "display_data"
    },
    {
     "name": "stdout",
     "output_type": "stream",
     "text": [
      "tumor\n"
     ]
    },
    {
     "data": {
      "image/png": "[encoded data removed]",
      "text/plain": [
       "<Figure size 432x288 with 1 Axes>"
      ]
     },
     "metadata": {
      "needs_background": "light"
     },
     "output_type": "display_data"
    },
    {
     "name": "stdout",
     "output_type": "stream",
     "text": [
      "hypopituitary\n"
     ]
    },
    {
     "data": {
      "image/png": "[encoded data removed]",
      "text/plain": [
       "<Figure size 432x288 with 1 Axes>"
      ]
     },
     "metadata": {
      "needs_background": "light"
     },
     "output_type": "display_data"
    },
    {
     "name": "stdout",
     "output_type": "stream",
     "text": [
      "psych\n"
     ]
    },
    {
     "data": {
      "image/png": "[encoded data removed]",
      "text/plain": [
       "<Figure size 432x288 with 1 Axes>"
      ]
     },
     "metadata": {
      "needs_background": "light"
     },
     "output_type": "display_data"
    },
    {
     "name": "stdout",
     "output_type": "stream",
     "text": [
      "TSH_measured\n"
     ]
    },
    {
     "data": {
      "image/png": "[encoded data removed]",
      "text/plain": [
       "<Figure size 432x288 with 1 Axes>"
      ]
     },
     "metadata": {
      "needs_background": "light"
     },
     "output_type": "display_data"
    },
    {
     "name": "stdout",
     "output_type": "stream",
     "text": [
      "TSH\n"
     ]
    },
    {
     "data": {
      "image/png": "[encoded data removed]",
      "text/plain": [
       "<Figure size 432x288 with 1 Axes>"
      ]
     },
     "metadata": {
      "needs_background": "light"
     },
     "output_type": "display_data"
    },
    {
     "name": "stdout",
     "output_type": "stream",
     "text": [
      "T3_measured\n"
     ]
    },
    {
     "data": {
      "image/png": "[encoded data removed]",
      "text/plain": [
       "<Figure size 432x288 with 1 Axes>"
      ]
     },
     "metadata": {
      "needs_background": "light"
     },
     "output_type": "display_data"
    },
    {
     "name": "stdout",
     "output_type": "stream",
     "text": [
      "TT4_measured\n"
     ]
    },
    {
     "data": {
      "image/png": "[encoded data removed]",
      "text/plain": [
       "<Figure size 432x288 with 1 Axes>"
      ]
     },
     "metadata": {
      "needs_background": "light"
     },
     "output_type": "display_data"
    },
    {
     "name": "stdout",
     "output_type": "stream",
     "text": [
      "TT4\n"
     ]
    },
    {
     "data": {
      "image/png": "[encoded data removed]",
      "text/plain": [
       "<Figure size 432x288 with 1 Axes>"
      ]
     },
     "metadata": {
      "needs_background": "light"
     },
     "output_type": "display_data"
    },
    {
     "name": "stdout",
     "output_type": "stream",
     "text": [
      "T4U_measured\n"
     ]
    },
    {
     "data": {
      "image/png": "[encoded data removed]",
      "text/plain": [
       "<Figure size 432x288 with 1 Axes>"
      ]
     },
     "metadata": {
      "needs_background": "light"
     },
     "output_type": "display_data"
    },
    {
     "name": "stdout",
     "output_type": "stream",
     "text": [
      "T4U\n"
     ]
    },
    {
     "data": {
      "image/png": "[encoded data removed]",
      "text/plain": [
       "<Figure size 432x288 with 1 Axes>"
      ]
     },
     "metadata": {
      "needs_background": "light"
     },
     "output_type": "display_data"
    },
    {
     "name": "stdout",
     "output_type": "stream",
     "text": [
      "FTI_measured\n"
     ]
    },
    {
     "data": {
      "image/png": "[encoded data removed]",
      "text/plain": [
       "<Figure size 432x288 with 1 Axes>"
      ]
     },
     "metadata": {
      "needs_background": "light"
     },
     "output_type": "display_data"
    },
    {
     "name": "stdout",
     "output_type": "stream",
     "text": [
      "FTI\n"
     ]
    },
    {
     "data": {
      "image/png": "[encoded data removed]",
      "text/plain": [
       "<Figure size 432x288 with 1 Axes>"
      ]
     },
     "metadata": {
      "needs_background": "light"
     },
     "output_type": "display_data"
    },
    {
     "name": "stdout",
     "output_type": "stream",
     "text": [
      "TBG_measured\n"
     ]
    },
    {
     "data": {
      "image/png": "[encoded data removed]",
      "text/plain": [
       "<Figure size 432x288 with 1 Axes>"
      ]
     },
     "metadata": {
      "needs_background": "light"
     },
     "output_type": "display_data"
    },
    {
     "name": "stdout",
     "output_type": "stream",
     "text": [
      "TBG\n"
     ]
    },
    {
     "data": {
      "image/png": "[encoded data removed]",
      "text/plain": [
       "<Figure size 432x288 with 1 Axes>"
      ]
     },
     "metadata": {
      "needs_background": "light"
     },
     "output_type": "display_data"
    },
    {
     "name": "stdout",
     "output_type": "stream",
     "text": [
      "target\n"
     ]
    },
    {
     "data": {
      "image/png": "[encoded data removed]",
      "text/plain": [
       "<Figure size 432x288 with 1 Axes>"
      ]
     },
     "metadata": {
      "needs_background": "light"
     },
     "output_type": "display_data"
    }
   ],
   "source": [
    "import matplotlib.pyplot as plt\n",
    "plt.figure(figsize=(20,15))\n",
    "tyroid=tyroid.select_dtypes(include='number')\n",
    "a=[]\n",
    "for i in tyroid:\n",
    "    print(i)\n",
    "    plt.boxplot(tyroid[i])\n",
    "    plt.show()"
   ]
  },
  {
   "cell_type": "code",
   "execution_count": 28,
   "id": "8c29d58f",
   "metadata": {},
   "outputs": [
    {
     "data": {
      "text/plain": [
       "(74.428844972367, -63.98879574959762)"
      ]
     },
     "execution_count": 28,
     "metadata": {},
     "output_type": "execute_result"
    }
   ],
   "source": [
    "upper_limit=tyroid['TSH'].mean() + 3*tyroid['TSH'].std()\n",
    "lower_limit=tyroid['TSH'].mean() - 3*tyroid['TSH'].std()\n",
    "upper_limit,lower_limit"
   ]
  },
  {
   "cell_type": "code",
   "execution_count": 43,
   "id": "c27a0728",
   "metadata": {},
   "outputs": [
    {
     "data": {
      "text/plain": [
       "(205.1722409382441, 10.541326900951887)"
      ]
     },
     "execution_count": 43,
     "metadata": {},
     "output_type": "execute_result"
    }
   ],
   "source": [
    "upper_limit1=tyroid['FTI'].mean() + 3*tyroid['FTI'].std()\n",
    "lower_limit1=tyroid['FTI'].mean() - 3*tyroid['FTI'].std()\n",
    "upper_limit1,lower_limit1"
   ]
  },
  {
   "cell_type": "code",
   "execution_count": 44,
   "id": "df0d2a61",
   "metadata": {},
   "outputs": [],
   "source": [
    "col=tyroid['FTI']#,tyroid['TSH']\n",
    "for i in col:\n",
    "    if i < lower_limit1 or i > upper_limit1 :\n",
    "        tyroid.replace(i,0,inplace=True)"
   ]
  },
  {
   "cell_type": "code",
   "execution_count": 45,
   "id": "678b703f",
   "metadata": {},
   "outputs": [],
   "source": [
    "col=tyroid['TSH']#,tyroid['TSH']\n",
    "for i in col:\n",
    "    if i < lower_limit or i > upper_limit :\n",
    "        tyroid.replace(i,0,inplace=True)"
   ]
  },
  {
   "cell_type": "code",
   "execution_count": 48,
   "id": "3036dcbd",
   "metadata": {},
   "outputs": [
    {
     "data": {
      "image/png": "[encoded data removed]",
      "text/plain": [
       "<Figure size 432x288 with 1 Axes>"
      ]
     },
     "metadata": {
      "needs_background": "light"
     },
     "output_type": "display_data"
    }
   ],
   "source": [
    "plt.boxplot(tyroid['TSH'])\n",
    "plt.show()"
   ]
  },
  {
   "cell_type": "code",
   "execution_count": 49,
   "id": "dbe185c7",
   "metadata": {},
   "outputs": [
    {
     "data": {
      "text/plain": [
       "0       66\n",
       "1        0\n",
       "2       27\n",
       "3       38\n",
       "4       27\n",
       "        ..\n",
       "9166    66\n",
       "9167    66\n",
       "9168    66\n",
       "9169    66\n",
       "9170    66\n",
       "Name: TBG, Length: 9154, dtype: int32"
      ]
     },
     "execution_count": 49,
     "metadata": {},
     "output_type": "execute_result"
    }
   ],
   "source": [
    "tyroid['TBG']"
   ]
  },
  {
   "cell_type": "code",
   "execution_count": 50,
   "id": "88a7c4ed",
   "metadata": {},
   "outputs": [
    {
     "data": {
      "text/plain": [
       "age                          0\n",
       "sex                          0\n",
       "on_thyroxine                 0\n",
       "query_on_thyroxine           0\n",
       "on_antithyroid_medication    0\n",
       "sick                         0\n",
       "pregnant                     0\n",
       "thyroid_surgery              0\n",
       "I131_treatment               0\n",
       "query_hypothyroid            0\n",
       "query_hyperthyroid           0\n",
       "lithium                      0\n",
       "goitre                       0\n",
       "tumor                        0\n",
       "hypopituitary                0\n",
       "psych                        0\n",
       "TSH_measured                 0\n",
       "TSH                          0\n",
       "T3_measured                  0\n",
       "TT4_measured                 0\n",
       "TT4                          0\n",
       "T4U_measured                 0\n",
       "T4U                          0\n",
       "FTI_measured                 0\n",
       "FTI                          0\n",
       "TBG_measured                 0\n",
       "TBG                          0\n",
       "dtype: int64"
      ]
     },
     "execution_count": 50,
     "metadata": {},
     "output_type": "execute_result"
    }
   ],
   "source": [
    "x=tyroid.drop(columns='target')\n",
    "x.head()\n",
    "x.isnull().sum()"
   ]
  },
  {
   "cell_type": "code",
   "execution_count": 51,
   "id": "7d63c975",
   "metadata": {},
   "outputs": [
    {
     "data": {
      "text/plain": [
       "0     29\n",
       "1     29\n",
       "2     29\n",
       "3     28\n",
       "4     29\n",
       "5     29\n",
       "6     29\n",
       "7     29\n",
       "8     29\n",
       "9     29\n",
       "10    29\n",
       "11    29\n",
       "12    29\n",
       "13    29\n",
       "14    29\n",
       "15    29\n",
       "16    29\n",
       "17     0\n",
       "18    29\n",
       "19    29\n",
       "20    29\n",
       "21    29\n",
       "22    29\n",
       "23    29\n",
       "24    29\n",
       "25    29\n",
       "26    29\n",
       "27     1\n",
       "28    29\n",
       "29    29\n",
       "30    29\n",
       "31    27\n",
       "32    13\n",
       "33    29\n",
       "34    29\n",
       "35    29\n",
       "36    29\n",
       "37    29\n",
       "38    19\n",
       "39    22\n",
       "Name: target, dtype: int32"
      ]
     },
     "execution_count": 51,
     "metadata": {},
     "output_type": "execute_result"
    }
   ],
   "source": [
    "y=tyroid['target']\n",
    "y.head(40)"
   ]
  },
  {
   "cell_type": "code",
   "execution_count": 52,
   "id": "fd000bb3",
   "metadata": {
    "scrolled": true
   },
   "outputs": [
    {
     "name": "stdout",
     "output_type": "stream",
     "text": [
      "[[-3.76095771e-02  6.62461852e-01 -3.95649110e-01 ...  3.73142928e-02\n",
      "  -1.96704957e-01  1.87805889e-01]\n",
      " [-2.74836523e-02  6.62461852e-01 -3.95649110e-01 ...  3.73142928e-02\n",
      "   5.08375597e+00 -8.44666309e+00]\n",
      " [-3.17027876e-02  6.62461852e-01 -3.95649110e-01 ...  3.73142928e-02\n",
      "   5.08375597e+00 -4.91438033e+00]\n",
      " ...\n",
      " [-3.85649435e-03 -1.50952088e+00 -3.95649110e-01 ... -5.79080251e-01\n",
      "  -1.96704957e-01  1.87805889e-01]\n",
      " [-2.24206899e-02  6.62461852e-01 -3.95649110e-01 ... -6.09899978e-01\n",
      "  -1.96704957e-01  1.87805889e-01]\n",
      " [-3.59219230e-02 -1.50952088e+00 -3.95649110e-01 ... -1.31875370e+00\n",
      "  -1.96704957e-01  1.87805889e-01]]\n"
     ]
    }
   ],
   "source": [
    "from sklearn.preprocessing import StandardScaler\n",
    "ss=StandardScaler()\n",
    "scaled_data=ss.fit_transform(x)\n",
    "print(scaled_data)"
   ]
  },
  {
   "cell_type": "code",
   "execution_count": 53,
   "id": "904cabf4",
   "metadata": {},
   "outputs": [
    {
     "data": {
      "text/html": [
       "<style>#sk-container-id-1 {color: black;background-color: white;}#sk-container-id-1 pre{padding: 0;}#sk-container-id-1 div.sk-toggleable {background-color: white;}#sk-container-id-1 label.sk-toggleable__label {cursor: pointer;display: block;width: 100%;margin-bottom: 0;padding: 0.3em;box-sizing: border-box;text-align: center;}#sk-container-id-1 label.sk-toggleable__label-arrow:before {content: \"▸\";float: left;margin-right: 0.25em;color: #696969;}#sk-container-id-1 label.sk-toggleable__label-arrow:hover:before {color: black;}#sk-container-id-1 div.sk-estimator:hover label.sk-toggleable__label-arrow:before {color: black;}#sk-container-id-1 div.sk-toggleable__content {max-height: 0;max-width: 0;overflow: hidden;text-align: left;background-color: #f0f8ff;}#sk-container-id-1 div.sk-toggleable__content pre {margin: 0.2em;color: black;border-radius: 0.25em;background-color: #f0f8ff;}#sk-container-id-1 input.sk-toggleable__control:checked~div.sk-toggleable__content {max-height: 200px;max-width: 100%;overflow: auto;}#sk-container-id-1 input.sk-toggleable__control:checked~label.sk-toggleable__label-arrow:before {content: \"▾\";}#sk-container-id-1 div.sk-estimator input.sk-toggleable__control:checked~label.sk-toggleable__label {background-color: #d4ebff;}#sk-container-id-1 div.sk-label input.sk-toggleable__control:checked~label.sk-toggleable__label {background-color: #d4ebff;}#sk-container-id-1 input.sk-hidden--visually {border: 0;clip: rect(1px 1px 1px 1px);clip: rect(1px, 1px, 1px, 1px);height: 1px;margin: -1px;overflow: hidden;padding: 0;position: absolute;width: 1px;}#sk-container-id-1 div.sk-estimator {font-family: monospace;background-color: #f0f8ff;border: 1px dotted black;border-radius: 0.25em;box-sizing: border-box;margin-bottom: 0.5em;}#sk-container-id-1 div.sk-estimator:hover {background-color: #d4ebff;}#sk-container-id-1 div.sk-parallel-item::after {content: \"\";width: 100%;border-bottom: 1px solid gray;flex-grow: 1;}#sk-container-id-1 div.sk-label:hover label.sk-toggleable__label {background-color: #d4ebff;}#sk-container-id-1 div.sk-serial::before {content: \"\";position: absolute;border-left: 1px solid gray;box-sizing: border-box;top: 0;bottom: 0;left: 50%;z-index: 0;}#sk-container-id-1 div.sk-serial {display: flex;flex-direction: column;align-items: center;background-color: white;padding-right: 0.2em;padding-left: 0.2em;position: relative;}#sk-container-id-1 div.sk-item {position: relative;z-index: 1;}#sk-container-id-1 div.sk-parallel {display: flex;align-items: stretch;justify-content: center;background-color: white;position: relative;}#sk-container-id-1 div.sk-item::before, #sk-container-id-1 div.sk-parallel-item::before {content: \"\";position: absolute;border-left: 1px solid gray;box-sizing: border-box;top: 0;bottom: 0;left: 50%;z-index: -1;}#sk-container-id-1 div.sk-parallel-item {display: flex;flex-direction: column;z-index: 1;position: relative;background-color: white;}#sk-container-id-1 div.sk-parallel-item:first-child::after {align-self: flex-end;width: 50%;}#sk-container-id-1 div.sk-parallel-item:last-child::after {align-self: flex-start;width: 50%;}#sk-container-id-1 div.sk-parallel-item:only-child::after {width: 0;}#sk-container-id-1 div.sk-dashed-wrapped {border: 1px dashed gray;margin: 0 0.4em 0.5em 0.4em;box-sizing: border-box;padding-bottom: 0.4em;background-color: white;}#sk-container-id-1 div.sk-label label {font-family: monospace;font-weight: bold;display: inline-block;line-height: 1.2em;}#sk-container-id-1 div.sk-label-container {text-align: center;}#sk-container-id-1 div.sk-container {/* jupyter's `normalize.less` sets `[hidden] { display: none; }` but bootstrap.min.css set `[hidden] { display: none !important; }` so we also need the `!important` here to be able to override the default hidden behavior on the sphinx rendered scikit-learn.org. See: https://github.com/scikit-learn/scikit-learn/issues/21755 */display: inline-block !important;position: relative;}#sk-container-id-1 div.sk-text-repr-fallback {display: none;}</style><div id=\"sk-container-id-1\" class=\"sk-top-container\"><div class=\"sk-text-repr-fallback\"><pre>PCA(n_components=20)</pre><b>In a Jupyter environment, please rerun this cell to show the HTML representation or trust the notebook. <br />On GitHub, the HTML representation is unable to render, please try loading this page with nbviewer.org.</b></div><div class=\"sk-container\" hidden><div class=\"sk-item\"><div class=\"sk-estimator sk-toggleable\"><input class=\"sk-toggleable__control sk-hidden--visually\" id=\"sk-estimator-id-1\" type=\"checkbox\" checked><label for=\"sk-estimator-id-1\" class=\"sk-toggleable__label sk-toggleable__label-arrow\">PCA</label><div class=\"sk-toggleable__content\"><pre>PCA(n_components=20)</pre></div></div></div></div></div>"
      ],
      "text/plain": [
       "PCA(n_components=20)"
      ]
     },
     "execution_count": 53,
     "metadata": {},
     "output_type": "execute_result"
    }
   ],
   "source": [
    "from sklearn.decomposition import PCA\n",
    "pca=PCA(n_components=20)\n",
    "pca.fit(scaled_data)"
   ]
  },
  {
   "cell_type": "code",
   "execution_count": 54,
   "id": "ee7977f4",
   "metadata": {},
   "outputs": [
    {
     "name": "stdout",
     "output_type": "stream",
     "text": [
      "(9154, 27)\n",
      "(9154, 20)\n"
     ]
    }
   ],
   "source": [
    "s_d=pca.transform(scaled_data)\n",
    "print(scaled_data.shape)\n",
    "print(s_d.shape)"
   ]
  },
  {
   "cell_type": "code",
   "execution_count": 55,
   "id": "a0037976",
   "metadata": {},
   "outputs": [
    {
     "data": {
      "text/html": [
       "<div>\n",
       "<style scoped>\n",
       "    .dataframe tbody tr th:only-of-type {\n",
       "        vertical-align: middle;\n",
       "    }\n",
       "\n",
       "    .dataframe tbody tr th {\n",
       "        vertical-align: top;\n",
       "    }\n",
       "\n",
       "    .dataframe thead th {\n",
       "        text-align: right;\n",
       "    }\n",
       "</style>\n",
       "<table border=\"1\" class=\"dataframe\">\n",
       "  <thead>\n",
       "    <tr style=\"text-align: right;\">\n",
       "      <th></th>\n",
       "      <th>Pca1</th>\n",
       "      <th>pca2</th>\n",
       "      <th>pca3</th>\n",
       "      <th>pca4</th>\n",
       "      <th>pca5</th>\n",
       "      <th>pca6</th>\n",
       "      <th>pca7</th>\n",
       "      <th>pca8</th>\n",
       "      <th>pca8</th>\n",
       "      <th>pca9</th>\n",
       "      <th>pca10</th>\n",
       "      <th>pca11</th>\n",
       "      <th>pca12</th>\n",
       "      <th>pca13</th>\n",
       "      <th>pca14</th>\n",
       "      <th>pca15</th>\n",
       "      <th>pca16</th>\n",
       "      <th>pca17</th>\n",
       "      <th>pca18</th>\n",
       "      <th>pca19</th>\n",
       "    </tr>\n",
       "  </thead>\n",
       "  <tbody>\n",
       "    <tr>\n",
       "      <th>0</th>\n",
       "      <td>2.160827</td>\n",
       "      <td>-0.223284</td>\n",
       "      <td>-0.299798</td>\n",
       "      <td>-1.339954</td>\n",
       "      <td>-1.710683</td>\n",
       "      <td>-0.127869</td>\n",
       "      <td>0.413701</td>\n",
       "      <td>2.142531</td>\n",
       "      <td>0.977098</td>\n",
       "      <td>-0.484769</td>\n",
       "      <td>0.306702</td>\n",
       "      <td>0.411610</td>\n",
       "      <td>-0.390243</td>\n",
       "      <td>0.442319</td>\n",
       "      <td>0.508454</td>\n",
       "      <td>-1.282571</td>\n",
       "      <td>-0.672763</td>\n",
       "      <td>-0.966022</td>\n",
       "      <td>-0.066788</td>\n",
       "      <td>-0.321146</td>\n",
       "    </tr>\n",
       "    <tr>\n",
       "      <th>1</th>\n",
       "      <td>11.676446</td>\n",
       "      <td>-0.158623</td>\n",
       "      <td>0.605483</td>\n",
       "      <td>-0.544198</td>\n",
       "      <td>0.054847</td>\n",
       "      <td>1.519054</td>\n",
       "      <td>0.090190</td>\n",
       "      <td>-2.035264</td>\n",
       "      <td>-1.140346</td>\n",
       "      <td>0.482528</td>\n",
       "      <td>-0.267743</td>\n",
       "      <td>-0.106598</td>\n",
       "      <td>0.648720</td>\n",
       "      <td>-0.134031</td>\n",
       "      <td>-1.598256</td>\n",
       "      <td>1.776913</td>\n",
       "      <td>-1.185528</td>\n",
       "      <td>0.819118</td>\n",
       "      <td>-0.887609</td>\n",
       "      <td>0.690710</td>\n",
       "    </tr>\n",
       "    <tr>\n",
       "      <th>2</th>\n",
       "      <td>10.096566</td>\n",
       "      <td>0.020557</td>\n",
       "      <td>-0.185634</td>\n",
       "      <td>0.175276</td>\n",
       "      <td>0.345790</td>\n",
       "      <td>-0.380929</td>\n",
       "      <td>0.052799</td>\n",
       "      <td>-0.621262</td>\n",
       "      <td>-0.276149</td>\n",
       "      <td>0.038722</td>\n",
       "      <td>-0.143667</td>\n",
       "      <td>0.265953</td>\n",
       "      <td>0.093535</td>\n",
       "      <td>-0.467035</td>\n",
       "      <td>0.348211</td>\n",
       "      <td>0.630123</td>\n",
       "      <td>-0.305147</td>\n",
       "      <td>0.054288</td>\n",
       "      <td>0.397731</td>\n",
       "      <td>0.629925</td>\n",
       "    </tr>\n",
       "    <tr>\n",
       "      <th>3</th>\n",
       "      <td>9.498901</td>\n",
       "      <td>0.024339</td>\n",
       "      <td>-0.177054</td>\n",
       "      <td>0.154884</td>\n",
       "      <td>0.256927</td>\n",
       "      <td>-0.354408</td>\n",
       "      <td>0.080146</td>\n",
       "      <td>-0.409839</td>\n",
       "      <td>-0.148210</td>\n",
       "      <td>0.001381</td>\n",
       "      <td>-0.109878</td>\n",
       "      <td>0.281469</td>\n",
       "      <td>0.019601</td>\n",
       "      <td>-0.388062</td>\n",
       "      <td>0.340480</td>\n",
       "      <td>0.376124</td>\n",
       "      <td>-0.339216</td>\n",
       "      <td>-0.096426</td>\n",
       "      <td>0.377755</td>\n",
       "      <td>0.429976</td>\n",
       "    </tr>\n",
       "    <tr>\n",
       "      <th>4</th>\n",
       "      <td>10.096483</td>\n",
       "      <td>0.020420</td>\n",
       "      <td>-0.185981</td>\n",
       "      <td>0.174813</td>\n",
       "      <td>0.345739</td>\n",
       "      <td>-0.378880</td>\n",
       "      <td>0.051905</td>\n",
       "      <td>-0.623915</td>\n",
       "      <td>-0.277638</td>\n",
       "      <td>0.043748</td>\n",
       "      <td>-0.125277</td>\n",
       "      <td>0.270568</td>\n",
       "      <td>0.092804</td>\n",
       "      <td>-0.466328</td>\n",
       "      <td>0.350235</td>\n",
       "      <td>0.630089</td>\n",
       "      <td>-0.303313</td>\n",
       "      <td>0.053136</td>\n",
       "      <td>0.397861</td>\n",
       "      <td>0.630860</td>\n",
       "    </tr>\n",
       "  </tbody>\n",
       "</table>\n",
       "</div>"
      ],
      "text/plain": [
       "        Pca1      pca2      pca3      pca4      pca5      pca6      pca7  \\\n",
       "0   2.160827 -0.223284 -0.299798 -1.339954 -1.710683 -0.127869  0.413701   \n",
       "1  11.676446 -0.158623  0.605483 -0.544198  0.054847  1.519054  0.090190   \n",
       "2  10.096566  0.020557 -0.185634  0.175276  0.345790 -0.380929  0.052799   \n",
       "3   9.498901  0.024339 -0.177054  0.154884  0.256927 -0.354408  0.080146   \n",
       "4  10.096483  0.020420 -0.185981  0.174813  0.345739 -0.378880  0.051905   \n",
       "\n",
       "       pca8      pca8      pca9     pca10     pca11     pca12     pca13  \\\n",
       "0  2.142531  0.977098 -0.484769  0.306702  0.411610 -0.390243  0.442319   \n",
       "1 -2.035264 -1.140346  0.482528 -0.267743 -0.106598  0.648720 -0.134031   \n",
       "2 -0.621262 -0.276149  0.038722 -0.143667  0.265953  0.093535 -0.467035   \n",
       "3 -0.409839 -0.148210  0.001381 -0.109878  0.281469  0.019601 -0.388062   \n",
       "4 -0.623915 -0.277638  0.043748 -0.125277  0.270568  0.092804 -0.466328   \n",
       "\n",
       "      pca14     pca15     pca16     pca17     pca18     pca19  \n",
       "0  0.508454 -1.282571 -0.672763 -0.966022 -0.066788 -0.321146  \n",
       "1 -1.598256  1.776913 -1.185528  0.819118 -0.887609  0.690710  \n",
       "2  0.348211  0.630123 -0.305147  0.054288  0.397731  0.629925  \n",
       "3  0.340480  0.376124 -0.339216 -0.096426  0.377755  0.429976  \n",
       "4  0.350235  0.630089 -0.303313  0.053136  0.397861  0.630860  "
      ]
     },
     "execution_count": 55,
     "metadata": {},
     "output_type": "execute_result"
    }
   ],
   "source": [
    "x_pca=pd.DataFrame(data=s_d,columns=['Pca1','pca2','pca3','pca4','pca5','pca6','pca7','pca8','pca8','pca9','pca10','pca11','pca12','pca13','pca14','pca15','pca16','pca17','pca18','pca19'])\n",
    "x_pca.head()"
   ]
  },
  {
   "cell_type": "code",
   "execution_count": 56,
   "id": "9fca45ad",
   "metadata": {},
   "outputs": [],
   "source": [
    "from sklearn.model_selection import train_test_split\n",
    "x_train,x_test,y_train,y_test=train_test_split(x_pca,y,test_size=0.25,random_state=42)"
   ]
  },
  {
   "cell_type": "code",
   "execution_count": 57,
   "id": "ad2792bc",
   "metadata": {},
   "outputs": [
    {
     "name": "stderr",
     "output_type": "stream",
     "text": [
      "C:\\Users\\lenovo\\anaconda3\\lib\\site-packages\\sklearn\\linear_model\\_logistic.py:458: ConvergenceWarning: lbfgs failed to converge (status=1):\n",
      "STOP: TOTAL NO. of ITERATIONS REACHED LIMIT.\n",
      "\n",
      "Increase the number of iterations (max_iter) or scale the data as shown in:\n",
      "    https://scikit-learn.org/stable/modules/preprocessing.html\n",
      "Please also refer to the documentation for alternative solver options:\n",
      "    https://scikit-learn.org/stable/modules/linear_model.html#logistic-regression\n",
      "  n_iter_i = _check_optimize_result(\n"
     ]
    }
   ],
   "source": [
    "from sklearn.linear_model import LogisticRegression\n",
    "l_e=LogisticRegression()\n",
    "model=l_e.fit(x_train,y_train)\n",
    "pred=model.predict(x_test)"
   ]
  },
  {
   "cell_type": "code",
   "execution_count": 58,
   "id": "c725695e",
   "metadata": {},
   "outputs": [
    {
     "name": "stdout",
     "output_type": "stream",
     "text": [
      "              precision    recall  f1-score   support\n",
      "\n",
      "           0       0.78      0.38      0.51       118\n",
      "           1       0.00      0.00      0.00        10\n",
      "           8       0.33      0.01      0.02        87\n",
      "          13       0.73      0.45      0.55        83\n",
      "          14       0.50      0.20      0.29         5\n",
      "          15       0.14      0.01      0.02       123\n",
      "          16       0.00      0.00      0.00         4\n",
      "          17       0.15      0.13      0.14        15\n",
      "          19       0.42      0.21      0.28        24\n",
      "          20       0.00      0.00      0.00         1\n",
      "          21       0.00      0.00      0.00         5\n",
      "          22       0.00      0.00      0.00        32\n",
      "          23       1.00      0.25      0.40         4\n",
      "          24       0.00      0.00      0.00         1\n",
      "          26       0.50      0.40      0.44         5\n",
      "          27       0.25      0.02      0.03        61\n",
      "          28       0.00      0.00      0.00        19\n",
      "          29       0.79      0.99      0.88      1692\n",
      "\n",
      "    accuracy                           0.77      2289\n",
      "   macro avg       0.31      0.17      0.20      2289\n",
      "weighted avg       0.68      0.77      0.70      2289\n",
      "\n"
     ]
    },
    {
     "name": "stderr",
     "output_type": "stream",
     "text": [
      "C:\\Users\\lenovo\\anaconda3\\lib\\site-packages\\sklearn\\metrics\\_classification.py:1344: UndefinedMetricWarning: Precision and F-score are ill-defined and being set to 0.0 in labels with no predicted samples. Use `zero_division` parameter to control this behavior.\n",
      "  _warn_prf(average, modifier, msg_start, len(result))\n",
      "C:\\Users\\lenovo\\anaconda3\\lib\\site-packages\\sklearn\\metrics\\_classification.py:1344: UndefinedMetricWarning: Precision and F-score are ill-defined and being set to 0.0 in labels with no predicted samples. Use `zero_division` parameter to control this behavior.\n",
      "  _warn_prf(average, modifier, msg_start, len(result))\n",
      "C:\\Users\\lenovo\\anaconda3\\lib\\site-packages\\sklearn\\metrics\\_classification.py:1344: UndefinedMetricWarning: Precision and F-score are ill-defined and being set to 0.0 in labels with no predicted samples. Use `zero_division` parameter to control this behavior.\n",
      "  _warn_prf(average, modifier, msg_start, len(result))\n"
     ]
    }
   ],
   "source": [
    "from sklearn.metrics import classification_report\n",
    "print(classification_report(y_test,pred))\n"
   ]
  },
  {
   "cell_type": "code",
   "execution_count": 59,
   "id": "236d8f4c",
   "metadata": {},
   "outputs": [
    {
     "name": "stdout",
     "output_type": "stream",
     "text": [
      "              precision    recall  f1-score   support\n",
      "\n",
      "           0       0.48      0.51      0.49       118\n",
      "           1       0.30      0.30      0.30        10\n",
      "           8       0.36      0.34      0.35        87\n",
      "          13       0.49      0.54      0.52        83\n",
      "          14       0.60      0.60      0.60         5\n",
      "          15       0.20      0.16      0.18       123\n",
      "          16       0.00      0.00      0.00         4\n",
      "          17       0.24      0.47      0.32        15\n",
      "          19       0.33      0.25      0.29        24\n",
      "          20       0.00      0.00      0.00         1\n",
      "          21       0.00      0.00      0.00         5\n",
      "          22       0.64      0.50      0.56        32\n",
      "          23       1.00      0.50      0.67         4\n",
      "          24       0.00      0.00      0.00         1\n",
      "          26       0.50      0.40      0.44         5\n",
      "          27       0.38      0.41      0.40        61\n",
      "          28       0.84      0.84      0.84        19\n",
      "          29       0.86      0.86      0.86      1692\n",
      "\n",
      "    accuracy                           0.74      2289\n",
      "   macro avg       0.40      0.37      0.38      2289\n",
      "weighted avg       0.74      0.74      0.74      2289\n",
      "\n"
     ]
    },
    {
     "name": "stderr",
     "output_type": "stream",
     "text": [
      "C:\\Users\\lenovo\\anaconda3\\lib\\site-packages\\sklearn\\metrics\\_classification.py:1344: UndefinedMetricWarning: Precision and F-score are ill-defined and being set to 0.0 in labels with no predicted samples. Use `zero_division` parameter to control this behavior.\n",
      "  _warn_prf(average, modifier, msg_start, len(result))\n",
      "C:\\Users\\lenovo\\anaconda3\\lib\\site-packages\\sklearn\\metrics\\_classification.py:1344: UndefinedMetricWarning: Precision and F-score are ill-defined and being set to 0.0 in labels with no predicted samples. Use `zero_division` parameter to control this behavior.\n",
      "  _warn_prf(average, modifier, msg_start, len(result))\n",
      "C:\\Users\\lenovo\\anaconda3\\lib\\site-packages\\sklearn\\metrics\\_classification.py:1344: UndefinedMetricWarning: Precision and F-score are ill-defined and being set to 0.0 in labels with no predicted samples. Use `zero_division` parameter to control this behavior.\n",
      "  _warn_prf(average, modifier, msg_start, len(result))\n"
     ]
    }
   ],
   "source": [
    "from sklearn.tree import DecisionTreeClassifier\n",
    "d_c=DecisionTreeClassifier()\n",
    "model=d_c.fit(x_train,y_train)\n",
    "dc_pred=d_c.predict(x_test)\n",
    "print(classification_report(y_test,dc_pred))"
   ]
  },
  {
   "cell_type": "code",
   "execution_count": 60,
   "id": "1040cafa",
   "metadata": {},
   "outputs": [
    {
     "name": "stdout",
     "output_type": "stream",
     "text": [
      "              precision    recall  f1-score   support\n",
      "\n",
      "           0       0.84      0.40      0.54       118\n",
      "           1       0.00      0.00      0.00        10\n",
      "           8       0.00      0.00      0.00        87\n",
      "          13       0.78      0.25      0.38        83\n",
      "          14       0.00      0.00      0.00         5\n",
      "          15       0.00      0.00      0.00       123\n",
      "          16       0.00      0.00      0.00         4\n",
      "          17       0.00      0.00      0.00        15\n",
      "          19       0.00      0.00      0.00        24\n",
      "          20       0.00      0.00      0.00         1\n",
      "          21       0.00      0.00      0.00         5\n",
      "          22       0.00      0.00      0.00        32\n",
      "          23       0.00      0.00      0.00         4\n",
      "          24       0.00      0.00      0.00         1\n",
      "          26       0.00      0.00      0.00         5\n",
      "          27       0.00      0.00      0.00        61\n",
      "          28       0.00      0.00      0.00        19\n",
      "          29       0.77      1.00      0.87      1692\n",
      "\n",
      "    accuracy                           0.77      2289\n",
      "   macro avg       0.13      0.09      0.10      2289\n",
      "weighted avg       0.64      0.77      0.68      2289\n",
      "\n"
     ]
    },
    {
     "name": "stderr",
     "output_type": "stream",
     "text": [
      "C:\\Users\\lenovo\\anaconda3\\lib\\site-packages\\sklearn\\metrics\\_classification.py:1344: UndefinedMetricWarning: Precision and F-score are ill-defined and being set to 0.0 in labels with no predicted samples. Use `zero_division` parameter to control this behavior.\n",
      "  _warn_prf(average, modifier, msg_start, len(result))\n",
      "C:\\Users\\lenovo\\anaconda3\\lib\\site-packages\\sklearn\\metrics\\_classification.py:1344: UndefinedMetricWarning: Precision and F-score are ill-defined and being set to 0.0 in labels with no predicted samples. Use `zero_division` parameter to control this behavior.\n",
      "  _warn_prf(average, modifier, msg_start, len(result))\n",
      "C:\\Users\\lenovo\\anaconda3\\lib\\site-packages\\sklearn\\metrics\\_classification.py:1344: UndefinedMetricWarning: Precision and F-score are ill-defined and being set to 0.0 in labels with no predicted samples. Use `zero_division` parameter to control this behavior.\n",
      "  _warn_prf(average, modifier, msg_start, len(result))\n"
     ]
    }
   ],
   "source": [
    "from sklearn.ensemble import RandomForestClassifier\n",
    "Rf=RandomForestClassifier(max_depth=4,n_estimators=100)\n",
    "model=Rf.fit(x_train,y_train)\n",
    "rf_pred=Rf.predict(x_test)\n",
    "print(classification_report(y_test,rf_pred))"
   ]
  },
  {
   "cell_type": "code",
   "execution_count": 61,
   "id": "46340288",
   "metadata": {},
   "outputs": [
    {
     "name": "stdout",
     "output_type": "stream",
     "text": [
      "              precision    recall  f1-score   support\n",
      "\n",
      "           0       0.64      0.55      0.59       118\n",
      "           1       0.21      0.30      0.25        10\n",
      "           8       0.39      0.17      0.24        87\n",
      "          13       0.65      0.64      0.64        83\n",
      "          14       0.75      0.60      0.67         5\n",
      "          15       0.30      0.12      0.17       123\n",
      "          16       0.00      0.00      0.00         4\n",
      "          17       0.16      0.33      0.22        15\n",
      "          19       0.20      0.17      0.18        24\n",
      "          20       0.00      0.00      0.00         1\n",
      "          21       0.00      0.00      0.00         5\n",
      "          22       0.72      0.41      0.52        32\n",
      "          23       0.67      0.50      0.57         4\n",
      "          24       0.00      0.00      0.00         1\n",
      "          26       0.50      0.40      0.44         5\n",
      "          27       0.66      0.38      0.48        61\n",
      "          28       0.81      0.68      0.74        19\n",
      "          29       0.84      0.93      0.89      1692\n",
      "\n",
      "    accuracy                           0.78      2289\n",
      "   macro avg       0.42      0.34      0.37      2289\n",
      "weighted avg       0.75      0.78      0.76      2289\n",
      "\n"
     ]
    },
    {
     "name": "stderr",
     "output_type": "stream",
     "text": [
      "C:\\Users\\lenovo\\anaconda3\\lib\\site-packages\\sklearn\\metrics\\_classification.py:1344: UndefinedMetricWarning: Precision and F-score are ill-defined and being set to 0.0 in labels with no predicted samples. Use `zero_division` parameter to control this behavior.\n",
      "  _warn_prf(average, modifier, msg_start, len(result))\n",
      "C:\\Users\\lenovo\\anaconda3\\lib\\site-packages\\sklearn\\metrics\\_classification.py:1344: UndefinedMetricWarning: Precision and F-score are ill-defined and being set to 0.0 in labels with no predicted samples. Use `zero_division` parameter to control this behavior.\n",
      "  _warn_prf(average, modifier, msg_start, len(result))\n",
      "C:\\Users\\lenovo\\anaconda3\\lib\\site-packages\\sklearn\\metrics\\_classification.py:1344: UndefinedMetricWarning: Precision and F-score are ill-defined and being set to 0.0 in labels with no predicted samples. Use `zero_division` parameter to control this behavior.\n",
      "  _warn_prf(average, modifier, msg_start, len(result))\n"
     ]
    }
   ],
   "source": [
    "from sklearn.neighbors import KNeighborsClassifier\n",
    "knn=KNeighborsClassifier(n_neighbors=4)\n",
    "model4=knn.fit(x_train,y_train)\n",
    "kpred=knn.predict(x_test)\n",
    "print(classification_report(y_test,kpred))"
   ]
  },
  {
   "cell_type": "code",
   "execution_count": 62,
   "id": "344b0cdb",
   "metadata": {},
   "outputs": [
    {
     "name": "stdout",
     "output_type": "stream",
     "text": [
      "              precision    recall  f1-score   support\n",
      "\n",
      "           0       0.77      0.34      0.47       118\n",
      "           1       0.00      0.00      0.00        10\n",
      "           8       0.50      0.08      0.14        87\n",
      "          13       0.69      0.43      0.53        83\n",
      "          14       0.29      0.40      0.33         5\n",
      "          15       0.00      0.00      0.00       123\n",
      "          16       0.00      0.00      0.00         4\n",
      "          17       0.08      0.13      0.10        15\n",
      "          19       0.44      0.29      0.35        24\n",
      "          20       0.00      0.00      0.00         1\n",
      "          21       0.00      0.00      0.00         5\n",
      "          22       0.00      0.00      0.00        32\n",
      "          23       1.00      0.25      0.40         4\n",
      "          24       0.00      0.00      0.00         1\n",
      "          26       0.67      0.40      0.50         5\n",
      "          27       0.00      0.00      0.00        61\n",
      "          28       0.00      0.00      0.00        19\n",
      "          29       0.79      0.99      0.88      1692\n",
      "\n",
      "    accuracy                           0.77      2289\n",
      "   macro avg       0.29      0.18      0.21      2289\n",
      "weighted avg       0.68      0.77      0.71      2289\n",
      "\n"
     ]
    },
    {
     "name": "stderr",
     "output_type": "stream",
     "text": [
      "C:\\Users\\lenovo\\anaconda3\\lib\\site-packages\\sklearn\\metrics\\_classification.py:1344: UndefinedMetricWarning: Precision and F-score are ill-defined and being set to 0.0 in labels with no predicted samples. Use `zero_division` parameter to control this behavior.\n",
      "  _warn_prf(average, modifier, msg_start, len(result))\n",
      "C:\\Users\\lenovo\\anaconda3\\lib\\site-packages\\sklearn\\metrics\\_classification.py:1344: UndefinedMetricWarning: Precision and F-score are ill-defined and being set to 0.0 in labels with no predicted samples. Use `zero_division` parameter to control this behavior.\n",
      "  _warn_prf(average, modifier, msg_start, len(result))\n",
      "C:\\Users\\lenovo\\anaconda3\\lib\\site-packages\\sklearn\\metrics\\_classification.py:1344: UndefinedMetricWarning: Precision and F-score are ill-defined and being set to 0.0 in labels with no predicted samples. Use `zero_division` parameter to control this behavior.\n",
      "  _warn_prf(average, modifier, msg_start, len(result))\n"
     ]
    }
   ],
   "source": [
    "from sklearn.svm import SVC\n",
    "svm=SVC(kernel='linear')\n",
    "model5=svm.fit(x_train,y_train)\n",
    "s_pred=svm.predict(x_test)\n",
    "print(classification_report(y_test,s_pred))"
   ]
  },
  {
   "cell_type": "code",
   "execution_count": null,
   "id": "5d55c11f",
   "metadata": {},
   "outputs": [],
   "source": []
  }
 ],
 "metadata": {
  "kernelspec": {
   "display_name": "Python 3 (ipykernel)",
   "language": "python",
   "name": "python3"
  },
  "language_info": {
   "codemirror_mode": {
    "name": "ipython",
    "version": 3
   },
   "file_extension": ".py",
   "mimetype": "text/x-python",
   "name": "python",
   "nbconvert_exporter": "python",
   "pygments_lexer": "ipython3",
   "version": "3.9.12"
  }
 },
 "nbformat": 4,
 "nbformat_minor": 5
}
